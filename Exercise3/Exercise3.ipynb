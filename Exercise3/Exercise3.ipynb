{
 "cells": [
  {
   "cell_type": "markdown",
   "metadata": {},
   "source": [
    "# Exercise 3 - comparative experimentation\n"
   ]
  },
  {
   "cell_type": "code",
   "execution_count": 110,
   "metadata": {},
   "outputs": [],
   "source": [
    "#Import libraries for working with the datasets\n",
    "import pandas as pd\n",
    "import numpy as np\n",
    "from sklearn.tree import DecisionTreeClassifier\n",
    "from sklearn.neighbors import KNeighborsClassifier\n",
    "from sklearn.naive_bayes import GaussianNB\n",
    "from sklearn.linear_model import Perceptron\n",
    "from sklearn.model_selection import train_test_split, cross_val_score, cross_validate\n",
    "from sklearn.preprocessing import LabelEncoder\n",
    "from sklearn.datasets import load_iris, load_digits, load_breast_cancer\n",
    "from sklearn.metrics import accuracy_score, precision_score\n",
    "from timeit import default_timer as timer"
   ]
  },
  {
   "cell_type": "code",
   "execution_count": 111,
   "metadata": {},
   "outputs": [],
   "source": [
    "# Global\n",
    "scoring = ['precision_macro', 'recall_macro', 'accuracy']\n"
   ]
  },
  {
   "cell_type": "markdown",
   "metadata": {},
   "source": [
    "## Iris dataset"
   ]
  },
  {
   "cell_type": "code",
   "execution_count": 112,
   "metadata": {
    "scrolled": true
   },
   "outputs": [],
   "source": [
    "# Datasets\n",
    "iris = load_iris()\n",
    "iris_df = pd.DataFrame(iris.data, columns=iris.feature_names)\n",
    "iris_results_5fold = pd.DataFrame(columns=('Method', 'Accuracy', 'Precision', 'Training time', 'Testing time'))\n",
    "iris_results_holdout = pd.DataFrame(columns=('Method', 'Accuracy', 'Precision', 'Training time', 'Testing time'))"
   ]
  },
  {
   "cell_type": "code",
   "execution_count": 113,
   "metadata": {},
   "outputs": [],
   "source": [
    "data_train, data_test, target_train, target_test = train_test_split(iris_df, iris.target, random_state=1)"
   ]
  },
  {
   "cell_type": "code",
   "execution_count": 114,
   "metadata": {},
   "outputs": [
    {
     "name": "stdout",
     "output_type": "stream",
     "text": [
      "accuracy: 0.9736842105263158\n",
      "precision: 0.9736842105263158\n",
      "time training: 0.0005475000002661545 seconds\n",
      "time testing: 0.00013140000010025688 seconds\n"
     ]
    }
   ],
   "source": [
    "# DCT\n",
    "estimator = DecisionTreeClassifier(criterion='entropy')\n",
    "start_time_train = timer()\n",
    "\n",
    "estimator.fit(data_train, target_train)\n",
    "\n",
    "end_time_train = timer()\n",
    "\n",
    "# Predict\n",
    "start_time_test = timer()\n",
    "predicted = estimator.predict(data_test)\n",
    "end_time_test = timer()\n",
    "\n",
    "acc = accuracy_score(target_test, predicted)\n",
    "precision= precision_score(target_test, predicted, average=\"micro\")\n",
    "print (\"accuracy: \" + str(acc))\n",
    "print (\"precision: \" + str(precision))\n",
    "print (\"time training: \" + str(end_time_train-start_time_train) + \" seconds\")\n",
    "print (\"time testing: \" + str(end_time_test-start_time_test) + \" seconds\")\n",
    "\n",
    "iris_results_holdout = iris_results_holdout.append({\n",
    "    'Method' : 'DCT',\n",
    "    'Accuracy' : acc,\n",
    "    'Precision' : precision,\n",
    "    'Training time' : end_time_train-start_time_train,\n",
    "    'Testing time' : end_time_test-start_time_test\n",
    "}, ignore_index=True)"
   ]
  },
  {
   "cell_type": "code",
   "execution_count": 115,
   "metadata": {},
   "outputs": [],
   "source": [
    "estimator = DecisionTreeClassifier(criterion='entropy')\n",
    "scores = cross_validate(estimator, iris_df, iris.target, cv=5, scoring=scoring, return_train_score=False)\n",
    "scores\n",
    "\n",
    "iris_results_5fold = iris_results_5fold.append({\n",
    "    'Method' : 'DCT',\n",
    "    'Accuracy' : scores['test_accuracy'].mean(),\n",
    "    'Precision' : scores['test_precision_macro'].mean(),\n",
    "    'Training time' : scores['fit_time'].mean() ,\n",
    "    'Testing time' : scores['score_time'].mean()\n",
    "}, ignore_index=True)"
   ]
  },
  {
   "cell_type": "code",
   "execution_count": 116,
   "metadata": {},
   "outputs": [
    {
     "name": "stdout",
     "output_type": "stream",
     "text": [
      "KNN with 1 neighbors\n",
      "accuracy: 1.0\n",
      "precision: 1.0\n",
      "time training: 0.000549599999885686 seconds\n",
      "time testing: 0.0005533999997169303 seconds\n",
      "\n",
      "KNN with 5 neighbors\n",
      "accuracy: 1.0\n",
      "precision: 1.0\n",
      "time training: 0.0003722000001289416 seconds\n",
      "time testing: 0.000575600000047416 seconds\n",
      "\n",
      "KNN with 10 neighbors\n",
      "accuracy: 0.9736842105263158\n",
      "precision: 0.9736842105263158\n",
      "time training: 0.0005025999998906627 seconds\n",
      "time testing: 0.0005937999999332533 seconds\n",
      "\n"
     ]
    }
   ],
   "source": [
    "# KNN 1\n",
    "def KNN(n_neighbors):\n",
    "    print (f\"KNN with {n_neighbors} neighbors\")\n",
    "    estimator = KNeighborsClassifier(n_neighbors=n_neighbors)\n",
    "    start_time_train = timer()\n",
    "\n",
    "    estimator.fit(data_train, target_train)\n",
    "\n",
    "    end_time_train = timer()\n",
    "\n",
    "    # Predict\n",
    "    start_time_test = timer()\n",
    "    predicted = estimator.predict(data_test)\n",
    "    end_time_test = timer()\n",
    "\n",
    "    acc = accuracy_score(target_test, predicted)\n",
    "    precision= precision_score(target_test, predicted, average=\"micro\")\n",
    "    print (\"accuracy: \" + str(acc))\n",
    "    print (\"precision: \" + str(precision))\n",
    "    print (\"time training: \" + str(end_time_train-start_time_train) + \" seconds\")\n",
    "    print (\"time testing: \" + str(end_time_test-start_time_test) + \" seconds\")\n",
    "    print ()\n",
    "    \n",
    "    global iris_results_holdout\n",
    "    iris_results_holdout = iris_results_holdout.append({\n",
    "    'Method' : f'KNN/{n_neighbors}',\n",
    "    'Accuracy' : acc,\n",
    "    'Precision' : precision,\n",
    "    'Training time' : end_time_train-start_time_train,\n",
    "    'Testing time' : end_time_test-start_time_test\n",
    "    }, ignore_index=True)\n",
    "\n",
    "    \n",
    "KNN(1)\n",
    "KNN(5)\n",
    "KNN(10)"
   ]
  },
  {
   "cell_type": "code",
   "execution_count": 117,
   "metadata": {},
   "outputs": [],
   "source": [
    "def KNN_score(n_neighbors):\n",
    "    global iris_results_5fold\n",
    "    estimator = KNeighborsClassifier(n_neighbors=n_neighbors)\n",
    "    scores = cross_validate(estimator, iris_df, iris.target, cv=5, scoring=scoring, return_train_score=False)\n",
    "    scores\n",
    "\n",
    "    iris_results_5fold = iris_results_5fold.append({\n",
    "        'Method' : f'KNN/{n_neighbors}',\n",
    "        'Accuracy' : scores['test_accuracy'].mean(),\n",
    "        'Precision' : scores['test_precision_macro'].mean(),\n",
    "        'Training time' : scores['fit_time'].mean() ,\n",
    "        'Testing time' : scores['score_time'].mean()\n",
    "    }, ignore_index=True)\n",
    "\n",
    "KNN_score(1)\n",
    "KNN_score(5)\n",
    "KNN_score(10)"
   ]
  },
  {
   "cell_type": "code",
   "execution_count": 118,
   "metadata": {},
   "outputs": [
    {
     "name": "stdout",
     "output_type": "stream",
     "text": [
      "accuracy: 0.9736842105263158\n",
      "precision: 0.9736842105263158\n",
      "time training: 0.0008964999997260747 seconds\n",
      "time testing: 0.00020500000027823262 seconds\n"
     ]
    }
   ],
   "source": [
    "# GaussianNB\n",
    "estimator = GaussianNB()\n",
    "start_time_train = timer()\n",
    "\n",
    "estimator.fit(data_train, target_train)\n",
    "\n",
    "end_time_train = timer()\n",
    "\n",
    "# Predict\n",
    "start_time_test = timer()\n",
    "predicted = estimator.predict(data_test)\n",
    "end_time_test = timer()\n",
    "\n",
    "acc = accuracy_score(target_test, predicted)\n",
    "precision= precision_score(target_test, predicted, average=\"micro\")\n",
    "print (\"accuracy: \" + str(acc))\n",
    "print (\"precision: \" + str(precision))\n",
    "print (\"time training: \" + str(end_time_train-start_time_train) + \" seconds\")\n",
    "print (\"time testing: \" + str(end_time_test-start_time_test) + \" seconds\")\n",
    "\n",
    "iris_results_holdout = iris_results_holdout.append({\n",
    "    'Method' : 'GaussianNB',\n",
    "    'Accuracy' : acc,\n",
    "    'Precision' : precision,\n",
    "    'Training time' : end_time_train-start_time_train,\n",
    "    'Testing time' : end_time_test-start_time_test\n",
    "}, ignore_index=True)"
   ]
  },
  {
   "cell_type": "code",
   "execution_count": 119,
   "metadata": {},
   "outputs": [],
   "source": [
    "estimator = GaussianNB()\n",
    "scores = cross_validate(estimator, iris_df, iris.target, cv=5, scoring=scoring, return_train_score=False)\n",
    "scores\n",
    "\n",
    "iris_results_5fold = iris_results_5fold.append({\n",
    "    'Method' : 'GaussianNB',\n",
    "    'Accuracy' : scores['test_accuracy'].mean(),\n",
    "    'Precision' : scores['test_precision_macro'].mean(),\n",
    "    'Training time' : scores['fit_time'].mean() ,\n",
    "    'Testing time' : scores['score_time'].mean()\n",
    "}, ignore_index=True)"
   ]
  },
  {
   "cell_type": "code",
   "execution_count": 120,
   "metadata": {},
   "outputs": [
    {
     "name": "stdout",
     "output_type": "stream",
     "text": [
      "accuracy: 0.9473684210526315\n",
      "precision: 0.9473684210526315\n",
      "time training: 0.0008136999999805994 seconds\n",
      "time testing: 0.00013239999998404528 seconds\n"
     ]
    }
   ],
   "source": [
    "# Perceptron\n",
    "estimator = Perceptron(tol=1e-3, random_state=2)\n",
    "start_time_train = timer()\n",
    "\n",
    "estimator.fit(data_train, target_train)\n",
    "\n",
    "end_time_train = timer()\n",
    "\n",
    "# Predict\n",
    "start_time_test = timer()\n",
    "predicted = estimator.predict(data_test)\n",
    "end_time_test = timer()\n",
    "\n",
    "acc = accuracy_score(target_test, predicted)\n",
    "precision= precision_score(target_test, predicted, average=\"micro\")\n",
    "print (\"accuracy: \" + str(acc))\n",
    "print (\"precision: \" + str(precision))\n",
    "print (\"time training: \" + str(end_time_train-start_time_train) + \" seconds\")\n",
    "print (\"time testing: \" + str(end_time_test-start_time_test) + \" seconds\")\n",
    "\n",
    "iris_results_holdout = iris_results_holdout.append({\n",
    "    'Method' : 'Perceptron',\n",
    "    'Accuracy' : acc,\n",
    "    'Precision' : precision,\n",
    "    'Training time' : end_time_train-start_time_train,\n",
    "    'Testing time' : end_time_test-start_time_test\n",
    "}, ignore_index=True)"
   ]
  },
  {
   "cell_type": "code",
   "execution_count": 121,
   "metadata": {},
   "outputs": [
    {
     "name": "stderr",
     "output_type": "stream",
     "text": [
      "C:\\ProgramData\\Anaconda3\\lib\\site-packages\\sklearn\\metrics\\classification.py:1135: UndefinedMetricWarning: Precision is ill-defined and being set to 0.0 in labels with no predicted samples.\n",
      "  'precision', 'predicted', average, warn_for)\n",
      "C:\\ProgramData\\Anaconda3\\lib\\site-packages\\sklearn\\metrics\\classification.py:1135: UndefinedMetricWarning: Precision is ill-defined and being set to 0.0 in labels with no predicted samples.\n",
      "  'precision', 'predicted', average, warn_for)\n",
      "C:\\ProgramData\\Anaconda3\\lib\\site-packages\\sklearn\\metrics\\classification.py:1135: UndefinedMetricWarning: Precision is ill-defined and being set to 0.0 in labels with no predicted samples.\n",
      "  'precision', 'predicted', average, warn_for)\n"
     ]
    }
   ],
   "source": [
    "estimator = Perceptron(tol=1e-3, random_state=2)\n",
    "scores = cross_validate(estimator, iris_df, iris.target, cv=5, scoring=scoring, return_train_score=False)\n",
    "scores\n",
    "\n",
    "iris_results_5fold = iris_results_5fold.append({\n",
    "    'Method' : 'Perceptron',\n",
    "    'Accuracy' : scores['test_accuracy'].mean(),\n",
    "    'Precision' : scores['test_precision_macro'].mean(),\n",
    "    'Training time' : scores['fit_time'].mean() ,\n",
    "    'Testing time' : scores['score_time'].mean()\n",
    "}, ignore_index=True)"
   ]
  },
  {
   "cell_type": "code",
   "execution_count": 122,
   "metadata": {},
   "outputs": [
    {
     "data": {
      "text/html": [
       "<div>\n",
       "<style scoped>\n",
       "    .dataframe tbody tr th:only-of-type {\n",
       "        vertical-align: middle;\n",
       "    }\n",
       "\n",
       "    .dataframe tbody tr th {\n",
       "        vertical-align: top;\n",
       "    }\n",
       "\n",
       "    .dataframe thead th {\n",
       "        text-align: right;\n",
       "    }\n",
       "</style>\n",
       "<table border=\"1\" class=\"dataframe\">\n",
       "  <thead>\n",
       "    <tr style=\"text-align: right;\">\n",
       "      <th></th>\n",
       "      <th>Method</th>\n",
       "      <th>Accuracy</th>\n",
       "      <th>Precision</th>\n",
       "      <th>Training time</th>\n",
       "      <th>Testing time</th>\n",
       "    </tr>\n",
       "  </thead>\n",
       "  <tbody>\n",
       "    <tr>\n",
       "      <th>0</th>\n",
       "      <td>DCT</td>\n",
       "      <td>0.953333</td>\n",
       "      <td>0.955017</td>\n",
       "      <td>0.000799</td>\n",
       "      <td>0.000800</td>\n",
       "    </tr>\n",
       "    <tr>\n",
       "      <th>1</th>\n",
       "      <td>KNN/1</td>\n",
       "      <td>0.960000</td>\n",
       "      <td>0.963434</td>\n",
       "      <td>0.000600</td>\n",
       "      <td>0.001600</td>\n",
       "    </tr>\n",
       "    <tr>\n",
       "      <th>2</th>\n",
       "      <td>KNN/5</td>\n",
       "      <td>0.973333</td>\n",
       "      <td>0.976768</td>\n",
       "      <td>0.001000</td>\n",
       "      <td>0.001199</td>\n",
       "    </tr>\n",
       "    <tr>\n",
       "      <th>3</th>\n",
       "      <td>KNN/10</td>\n",
       "      <td>0.980000</td>\n",
       "      <td>0.980606</td>\n",
       "      <td>0.000600</td>\n",
       "      <td>0.001600</td>\n",
       "    </tr>\n",
       "    <tr>\n",
       "      <th>4</th>\n",
       "      <td>GaussianNB</td>\n",
       "      <td>0.953333</td>\n",
       "      <td>0.958384</td>\n",
       "      <td>0.000801</td>\n",
       "      <td>0.000999</td>\n",
       "    </tr>\n",
       "    <tr>\n",
       "      <th>5</th>\n",
       "      <td>Perceptron</td>\n",
       "      <td>0.646667</td>\n",
       "      <td>0.627967</td>\n",
       "      <td>0.001000</td>\n",
       "      <td>0.001001</td>\n",
       "    </tr>\n",
       "  </tbody>\n",
       "</table>\n",
       "</div>"
      ],
      "text/plain": [
       "       Method  Accuracy  Precision  Training time  Testing time\n",
       "0         DCT  0.953333   0.955017       0.000799      0.000800\n",
       "1       KNN/1  0.960000   0.963434       0.000600      0.001600\n",
       "2       KNN/5  0.973333   0.976768       0.001000      0.001199\n",
       "3      KNN/10  0.980000   0.980606       0.000600      0.001600\n",
       "4  GaussianNB  0.953333   0.958384       0.000801      0.000999\n",
       "5  Perceptron  0.646667   0.627967       0.001000      0.001001"
      ]
     },
     "execution_count": 122,
     "metadata": {},
     "output_type": "execute_result"
    }
   ],
   "source": [
    "iris_results_5fold"
   ]
  },
  {
   "cell_type": "markdown",
   "metadata": {},
   "source": [
    "## Digits dataset"
   ]
  },
  {
   "cell_type": "code",
   "execution_count": 123,
   "metadata": {},
   "outputs": [
    {
     "data": {
      "text/plain": [
       "<Figure size 432x288 with 0 Axes>"
      ]
     },
     "metadata": {},
     "output_type": "display_data"
    },
    {
     "data": {
      "image/png": "[encoded data removed]",
      "text/plain": [
       "<Figure size 288x288 with 1 Axes>"
      ]
     },
     "metadata": {
      "needs_background": "light"
     },
     "output_type": "display_data"
    }
   ],
   "source": [
    "%matplotlib inline\n",
    "import matplotlib.pyplot as plt \n",
    "\n",
    "digits = load_digits()\n",
    "digits_results_5fold = pd.DataFrame(columns=('Method', 'Accuracy', 'Precision', 'Training time', 'Testing time'))\n",
    "digits_results_holdout = pd.DataFrame(columns=('Method', 'Accuracy', 'Precision', 'Training time', 'Testing time'))\n",
    "plt.gray()\n",
    "plt.matshow(digits.images[1])\n",
    "plt.show()"
   ]
  },
  {
   "cell_type": "code",
   "execution_count": 124,
   "metadata": {},
   "outputs": [
    {
     "data": {
      "text/plain": [
       "1"
      ]
     },
     "execution_count": 124,
     "metadata": {},
     "output_type": "execute_result"
    }
   ],
   "source": [
    "digits.target[1] # Labels 0 .. 9"
   ]
  },
  {
   "cell_type": "code",
   "execution_count": 125,
   "metadata": {},
   "outputs": [
    {
     "data": {
      "text/plain": [
       "array([ 0.,  0.,  0., 12., 13.,  5.,  0.,  0.,  0.,  0.,  0., 11., 16.,\n",
       "        9.,  0.,  0.,  0.,  0.,  3., 15., 16.,  6.,  0.,  0.,  0.,  7.,\n",
       "       15., 16., 16.,  2.,  0.,  0.,  0.,  0.,  1., 16., 16.,  3.,  0.,\n",
       "        0.,  0.,  0.,  1., 16., 16.,  6.,  0.,  0.,  0.,  0.,  1., 16.,\n",
       "       16.,  6.,  0.,  0.,  0.,  0.,  0., 11., 16., 10.,  0.,  0.])"
      ]
     },
     "execution_count": 125,
     "metadata": {},
     "output_type": "execute_result"
    }
   ],
   "source": [
    "digits.data[1] # 1D array with images"
   ]
  },
  {
   "cell_type": "code",
   "execution_count": 126,
   "metadata": {},
   "outputs": [
    {
     "data": {
      "text/plain": [
       "array([[ 0.,  0.,  0., 12., 13.,  5.,  0.,  0.],\n",
       "       [ 0.,  0.,  0., 11., 16.,  9.,  0.,  0.],\n",
       "       [ 0.,  0.,  3., 15., 16.,  6.,  0.,  0.],\n",
       "       [ 0.,  7., 15., 16., 16.,  2.,  0.,  0.],\n",
       "       [ 0.,  0.,  1., 16., 16.,  3.,  0.,  0.],\n",
       "       [ 0.,  0.,  1., 16., 16.,  6.,  0.,  0.],\n",
       "       [ 0.,  0.,  1., 16., 16.,  6.,  0.,  0.],\n",
       "       [ 0.,  0.,  0., 11., 16., 10.,  0.,  0.]])"
      ]
     },
     "execution_count": 126,
     "metadata": {},
     "output_type": "execute_result"
    }
   ],
   "source": [
    "digits.images[1] # 2D array with images"
   ]
  },
  {
   "cell_type": "markdown",
   "metadata": {},
   "source": [
    "This dataset contains pictures. Since the pictures are also available in an one-dimensional array they can be used with the algorithms without issue."
   ]
  },
  {
   "cell_type": "code",
   "execution_count": 127,
   "metadata": {},
   "outputs": [],
   "source": [
    "data_train, data_test, target_train, target_test = train_test_split(digits.data, digits.target, random_state=1)"
   ]
  },
  {
   "cell_type": "code",
   "execution_count": 128,
   "metadata": {},
   "outputs": [
    {
     "name": "stdout",
     "output_type": "stream",
     "text": [
      "accuracy: 0.8933333333333333\n",
      "precision: 0.8933333333333333\n",
      "time training: 0.014085699999668577 seconds\n",
      "time testing: 0.00021939999987807823 seconds\n"
     ]
    }
   ],
   "source": [
    "# DCT\n",
    "estimator = DecisionTreeClassifier(criterion='entropy')\n",
    "start_time_train = timer()\n",
    "\n",
    "estimator.fit(data_train, target_train)\n",
    "\n",
    "end_time_train = timer()\n",
    "\n",
    "# Predict\n",
    "start_time_test = timer()\n",
    "predicted = estimator.predict(data_test)\n",
    "end_time_test = timer()\n",
    "\n",
    "acc = accuracy_score(target_test, predicted)\n",
    "precision= precision_score(target_test, predicted, average=\"micro\")\n",
    "print (\"accuracy: \" + str(acc))\n",
    "print (\"precision: \" + str(precision))\n",
    "print (\"time training: \" + str(end_time_train-start_time_train) + \" seconds\")\n",
    "print (\"time testing: \" + str(end_time_test-start_time_test) + \" seconds\")\n",
    "\n",
    "digits_results_holdout = digits_results_holdout.append({\n",
    "    'Method' : 'DCT',\n",
    "    'Accuracy' : acc,\n",
    "    'Precision' : precision,\n",
    "    'Training time' : end_time_train-start_time_train,\n",
    "    'Testing time' : end_time_test-start_time_test\n",
    "}, ignore_index=True)"
   ]
  },
  {
   "cell_type": "code",
   "execution_count": 129,
   "metadata": {},
   "outputs": [],
   "source": [
    "estimator = DecisionTreeClassifier(criterion='entropy')\n",
    "scores = cross_validate(estimator, digits.data, digits.target, cv=5, scoring=scoring, return_train_score=False)\n",
    "scores\n",
    "\n",
    "digits_results_5fold = digits_results_5fold.append({\n",
    "    'Method' : 'DCT',\n",
    "    'Accuracy' : scores['test_accuracy'].mean(),\n",
    "    'Precision' : scores['test_precision_macro'].mean(),\n",
    "    'Training time' : scores['fit_time'].mean() ,\n",
    "    'Testing time' : scores['score_time'].mean()\n",
    "}, ignore_index=True)"
   ]
  },
  {
   "cell_type": "code",
   "execution_count": 130,
   "metadata": {},
   "outputs": [
    {
     "name": "stdout",
     "output_type": "stream",
     "text": [
      "KNN with 1 neighbors\n",
      "accuracy: 0.9888888888888889\n",
      "precision: 0.9888888888888889\n",
      "time training: 0.002832000000125845 seconds\n",
      "time testing: 0.04289329999983238 seconds\n",
      "\n",
      "KNN with 5 neighbors\n",
      "accuracy: 0.9933333333333333\n",
      "precision: 0.9933333333333333\n",
      "time training: 0.0026053999999930966 seconds\n",
      "time testing: 0.047620399999686924 seconds\n",
      "\n",
      "KNN with 10 neighbors\n",
      "accuracy: 0.9933333333333333\n",
      "precision: 0.9933333333333333\n",
      "time training: 0.0027815000003101886 seconds\n",
      "time testing: 0.04950940000026094 seconds\n",
      "\n"
     ]
    }
   ],
   "source": [
    "def KNN(n_neighbors):\n",
    "    print (f\"KNN with {n_neighbors} neighbors\")\n",
    "    estimator = KNeighborsClassifier(n_neighbors=n_neighbors)\n",
    "    start_time_train = timer()\n",
    "\n",
    "    estimator.fit(data_train, target_train)\n",
    "\n",
    "    end_time_train = timer()\n",
    "\n",
    "    # Predict\n",
    "    start_time_test = timer()\n",
    "    predicted = estimator.predict(data_test)\n",
    "    end_time_test = timer()\n",
    "\n",
    "    acc = accuracy_score(target_test, predicted)\n",
    "    precision= precision_score(target_test, predicted, average=\"micro\")\n",
    "    print (\"accuracy: \" + str(acc))\n",
    "    print (\"precision: \" + str(precision))\n",
    "    print (\"time training: \" + str(end_time_train-start_time_train) + \" seconds\")\n",
    "    print (\"time testing: \" + str(end_time_test-start_time_test) + \" seconds\")\n",
    "    print ()\n",
    "    \n",
    "    global digits_results_holdout\n",
    "    digits_results_holdout = digits_results_holdout.append({\n",
    "    'Method' : f'KNN/{n_neighbors}',\n",
    "    'Accuracy' : acc,\n",
    "    'Precision' : precision,\n",
    "    'Training time' : end_time_train-start_time_train,\n",
    "    'Testing time' : end_time_test-start_time_test\n",
    "    }, ignore_index=True)\n",
    "\n",
    "    \n",
    "KNN(1)\n",
    "KNN(5)\n",
    "KNN(10)"
   ]
  },
  {
   "cell_type": "code",
   "execution_count": 131,
   "metadata": {},
   "outputs": [],
   "source": [
    "def KNN_score(n_neighbors):\n",
    "    global digits_results_5fold\n",
    "    estimator = KNeighborsClassifier(n_neighbors=n_neighbors)\n",
    "    scores = cross_validate(estimator, digits.data, digits.target, cv=5, scoring=scoring, return_train_score=False)\n",
    "    scores\n",
    "\n",
    "    digits_results_5fold = digits_results_5fold.append({\n",
    "        'Method' : f'KNN/{n_neighbors}',\n",
    "        'Accuracy' : scores['test_accuracy'].mean(),\n",
    "        'Precision' : scores['test_precision_macro'].mean(),\n",
    "        'Training time' : scores['fit_time'].mean() ,\n",
    "        'Testing time' : scores['score_time'].mean()\n",
    "    }, ignore_index=True)\n",
    "\n",
    "KNN_score(1)\n",
    "KNN_score(5)\n",
    "KNN_score(10)"
   ]
  },
  {
   "cell_type": "code",
   "execution_count": 132,
   "metadata": {},
   "outputs": [
    {
     "name": "stdout",
     "output_type": "stream",
     "text": [
      "accuracy: 0.8533333333333334\n",
      "precision: 0.8533333333333334\n",
      "time training: 0.002835499999946478 seconds\n",
      "time testing: 0.0010611000002427318 seconds\n"
     ]
    }
   ],
   "source": [
    "# GaussianNB\n",
    "estimator = GaussianNB()\n",
    "start_time_train = timer()\n",
    "\n",
    "estimator.fit(data_train, target_train)\n",
    "\n",
    "end_time_train = timer()\n",
    "\n",
    "# Predict\n",
    "start_time_test = timer()\n",
    "predicted = estimator.predict(data_test)\n",
    "end_time_test = timer()\n",
    "\n",
    "acc = accuracy_score(target_test, predicted)\n",
    "precision= precision_score(target_test, predicted, average=\"micro\")\n",
    "print (\"accuracy: \" + str(acc))\n",
    "print (\"precision: \" + str(precision))\n",
    "print (\"time training: \" + str(end_time_train-start_time_train) + \" seconds\")\n",
    "print (\"time testing: \" + str(end_time_test-start_time_test) + \" seconds\")\n",
    "\n",
    "digits_results_holdout = digits_results_holdout.append({\n",
    "    'Method' : 'GaussianNB',\n",
    "    'Accuracy' : acc,\n",
    "    'Precision' : precision,\n",
    "    'Training time' : end_time_train-start_time_train,\n",
    "    'Testing time' : end_time_test-start_time_test\n",
    "}, ignore_index=True)"
   ]
  },
  {
   "cell_type": "code",
   "execution_count": 133,
   "metadata": {},
   "outputs": [],
   "source": [
    "estimator = GaussianNB()\n",
    "scores = cross_validate(estimator, digits.data, digits.target, cv=5, scoring=scoring, return_train_score=False)\n",
    "scores\n",
    "\n",
    "digits_results_5fold = digits_results_5fold.append({\n",
    "    'Method' : 'GaussianNB',\n",
    "    'Accuracy' : scores['test_accuracy'].mean(),\n",
    "    'Precision' : scores['test_precision_macro'].mean(),\n",
    "    'Training time' : scores['fit_time'].mean() ,\n",
    "    'Testing time' : scores['score_time'].mean()\n",
    "}, ignore_index=True)"
   ]
  },
  {
   "cell_type": "code",
   "execution_count": 134,
   "metadata": {},
   "outputs": [
    {
     "name": "stdout",
     "output_type": "stream",
     "text": [
      "accuracy: 0.96\n",
      "precision: 0.96\n",
      "time training: 0.007564000000002125 seconds\n",
      "time testing: 0.0002690999999686028 seconds\n"
     ]
    }
   ],
   "source": [
    "# Perceptron\n",
    "estimator = Perceptron(tol=1e-3, random_state=2)\n",
    "start_time_train = timer()\n",
    "\n",
    "estimator.fit(data_train, target_train)\n",
    "\n",
    "end_time_train = timer()\n",
    "\n",
    "# Predict\n",
    "start_time_test = timer()\n",
    "predicted = estimator.predict(data_test)\n",
    "end_time_test = timer()\n",
    "\n",
    "acc = accuracy_score(target_test, predicted)\n",
    "precision= precision_score(target_test, predicted, average=\"micro\")\n",
    "print (\"accuracy: \" + str(acc))\n",
    "print (\"precision: \" + str(precision))\n",
    "print (\"time training: \" + str(end_time_train-start_time_train) + \" seconds\")\n",
    "print (\"time testing: \" + str(end_time_test-start_time_test) + \" seconds\")\n",
    "\n",
    "digits_results_holdout = digits_results_holdout.append({\n",
    "    'Method' : 'Perceptron',\n",
    "    'Accuracy' : acc,\n",
    "    'Precision' : precision,\n",
    "    'Training time' : end_time_train-start_time_train,\n",
    "    'Testing time' : end_time_test-start_time_test\n",
    "}, ignore_index=True)"
   ]
  },
  {
   "cell_type": "code",
   "execution_count": 142,
   "metadata": {},
   "outputs": [],
   "source": [
    "estimator = Perceptron(tol=1e-3, random_state=2)\n",
    "scores = cross_validate(estimator, digits.data, digits.target, cv=5, scoring=scoring, return_train_score=False)\n",
    "scores\n",
    "\n",
    "digits_results_5fold = digits_results_5fold.append({\n",
    "    'Method' : 'Perceptron',\n",
    "    'Accuracy' : scores['test_accuracy'].mean(),\n",
    "    'Precision' : scores['test_precision_macro'].mean(),\n",
    "    'Training time' : scores['fit_time'].mean() ,\n",
    "    'Testing time' : scores['score_time'].mean()\n",
    "}, ignore_index=True)"
   ]
  },
  {
   "cell_type": "markdown",
   "metadata": {},
   "source": [
    "## Results\n",
    "\n",
    "#### Which classifiers work best?\n",
    "Depending on the prioritized measurement almost each classifier has its merits.\n",
    "\n",
    "The DCT is one of the fastest predictors once the model is fitted.\n",
    "\n",
    "KNN works very well with the both the iris dataset. It is slightly slower compared to the other models.\n",
    "The five neighbour version seems to work best.\n",
    "\n",
    "The Perceptron was very sensitive regarding its random_state variable.  \n",
    "Best results could be achieved using a random_state of two. Other configurations yielded worse results.\n",
    "The Perceptron performed well using the holdout method but yielded bad results when using cross validation.\n",
    "\n",
    "GaussianNB worked well using the iris dataset but yielded bad results on the digits dataset.\n",
    "\n",
    "#### Observations regarding effectiveness measurements.\n",
    "Using the holdout method precision and accuracy are always the same.\n",
    "When using cross validation there seem to be more variation. (This may be related to the 'micro/macro' parameters but I did not understand the difference and cross_validate only seems to support 'macro'.)\n",
    "When precision is higher than the accuracy it indicates that there where more False negatives than False positives.\n",
    "\n",
    "#### Are there differences between the datasets?\n",
    "The digits dataset is much larger than the iris dataset and contains images.\n",
    "\n",
    "#### Are there differences in the efficiency measurements?\n",
    "The perceptron and the decision tree take much more time to train on the digit dataset compared to the other methods but are also faster when predicting.\n",
    "\n",
    "#### How is the runtime changing with the different data sets?\n",
    "The digits dataset takes longer to fit and predict.\n",
    "\n",
    "### Holdout Method\n"
   ]
  },
  {
   "cell_type": "code",
   "execution_count": 136,
   "metadata": {},
   "outputs": [
    {
     "data": {
      "text/html": [
       "<div>\n",
       "<style scoped>\n",
       "    .dataframe tbody tr th:only-of-type {\n",
       "        vertical-align: middle;\n",
       "    }\n",
       "\n",
       "    .dataframe tbody tr th {\n",
       "        vertical-align: top;\n",
       "    }\n",
       "\n",
       "    .dataframe thead th {\n",
       "        text-align: right;\n",
       "    }\n",
       "</style>\n",
       "<table border=\"1\" class=\"dataframe\">\n",
       "  <thead>\n",
       "    <tr style=\"text-align: right;\">\n",
       "      <th></th>\n",
       "      <th>Method</th>\n",
       "      <th>Accuracy</th>\n",
       "      <th>Precision</th>\n",
       "      <th>Training time</th>\n",
       "      <th>Testing time</th>\n",
       "    </tr>\n",
       "  </thead>\n",
       "  <tbody>\n",
       "    <tr>\n",
       "      <th>0</th>\n",
       "      <td>DCT</td>\n",
       "      <td>0.973684</td>\n",
       "      <td>0.973684</td>\n",
       "      <td>0.000548</td>\n",
       "      <td>0.000131</td>\n",
       "    </tr>\n",
       "    <tr>\n",
       "      <th>1</th>\n",
       "      <td>KNN/1</td>\n",
       "      <td>1.000000</td>\n",
       "      <td>1.000000</td>\n",
       "      <td>0.000550</td>\n",
       "      <td>0.000553</td>\n",
       "    </tr>\n",
       "    <tr>\n",
       "      <th>2</th>\n",
       "      <td>KNN/5</td>\n",
       "      <td>1.000000</td>\n",
       "      <td>1.000000</td>\n",
       "      <td>0.000372</td>\n",
       "      <td>0.000576</td>\n",
       "    </tr>\n",
       "    <tr>\n",
       "      <th>3</th>\n",
       "      <td>KNN/10</td>\n",
       "      <td>0.973684</td>\n",
       "      <td>0.973684</td>\n",
       "      <td>0.000503</td>\n",
       "      <td>0.000594</td>\n",
       "    </tr>\n",
       "    <tr>\n",
       "      <th>4</th>\n",
       "      <td>GaussianNB</td>\n",
       "      <td>0.973684</td>\n",
       "      <td>0.973684</td>\n",
       "      <td>0.000896</td>\n",
       "      <td>0.000205</td>\n",
       "    </tr>\n",
       "    <tr>\n",
       "      <th>5</th>\n",
       "      <td>Perceptron</td>\n",
       "      <td>0.947368</td>\n",
       "      <td>0.947368</td>\n",
       "      <td>0.000814</td>\n",
       "      <td>0.000132</td>\n",
       "    </tr>\n",
       "  </tbody>\n",
       "</table>\n",
       "</div>"
      ],
      "text/plain": [
       "       Method  Accuracy  Precision  Training time  Testing time\n",
       "0         DCT  0.973684   0.973684       0.000548      0.000131\n",
       "1       KNN/1  1.000000   1.000000       0.000550      0.000553\n",
       "2       KNN/5  1.000000   1.000000       0.000372      0.000576\n",
       "3      KNN/10  0.973684   0.973684       0.000503      0.000594\n",
       "4  GaussianNB  0.973684   0.973684       0.000896      0.000205\n",
       "5  Perceptron  0.947368   0.947368       0.000814      0.000132"
      ]
     },
     "execution_count": 136,
     "metadata": {},
     "output_type": "execute_result"
    }
   ],
   "source": [
    " iris_results_holdout"
   ]
  },
  {
   "cell_type": "code",
   "execution_count": 137,
   "metadata": {},
   "outputs": [
    {
     "data": {
      "text/html": [
       "<div>\n",
       "<style scoped>\n",
       "    .dataframe tbody tr th:only-of-type {\n",
       "        vertical-align: middle;\n",
       "    }\n",
       "\n",
       "    .dataframe tbody tr th {\n",
       "        vertical-align: top;\n",
       "    }\n",
       "\n",
       "    .dataframe thead th {\n",
       "        text-align: right;\n",
       "    }\n",
       "</style>\n",
       "<table border=\"1\" class=\"dataframe\">\n",
       "  <thead>\n",
       "    <tr style=\"text-align: right;\">\n",
       "      <th></th>\n",
       "      <th>Method</th>\n",
       "      <th>Accuracy</th>\n",
       "      <th>Precision</th>\n",
       "      <th>Training time</th>\n",
       "      <th>Testing time</th>\n",
       "    </tr>\n",
       "  </thead>\n",
       "  <tbody>\n",
       "    <tr>\n",
       "      <th>0</th>\n",
       "      <td>DCT</td>\n",
       "      <td>0.893333</td>\n",
       "      <td>0.893333</td>\n",
       "      <td>0.014086</td>\n",
       "      <td>0.000219</td>\n",
       "    </tr>\n",
       "    <tr>\n",
       "      <th>1</th>\n",
       "      <td>KNN/1</td>\n",
       "      <td>0.988889</td>\n",
       "      <td>0.988889</td>\n",
       "      <td>0.002832</td>\n",
       "      <td>0.042893</td>\n",
       "    </tr>\n",
       "    <tr>\n",
       "      <th>2</th>\n",
       "      <td>KNN/5</td>\n",
       "      <td>0.993333</td>\n",
       "      <td>0.993333</td>\n",
       "      <td>0.002605</td>\n",
       "      <td>0.047620</td>\n",
       "    </tr>\n",
       "    <tr>\n",
       "      <th>3</th>\n",
       "      <td>KNN/10</td>\n",
       "      <td>0.993333</td>\n",
       "      <td>0.993333</td>\n",
       "      <td>0.002782</td>\n",
       "      <td>0.049509</td>\n",
       "    </tr>\n",
       "    <tr>\n",
       "      <th>4</th>\n",
       "      <td>GaussianNB</td>\n",
       "      <td>0.853333</td>\n",
       "      <td>0.853333</td>\n",
       "      <td>0.002835</td>\n",
       "      <td>0.001061</td>\n",
       "    </tr>\n",
       "    <tr>\n",
       "      <th>5</th>\n",
       "      <td>Perceptron</td>\n",
       "      <td>0.960000</td>\n",
       "      <td>0.960000</td>\n",
       "      <td>0.007564</td>\n",
       "      <td>0.000269</td>\n",
       "    </tr>\n",
       "  </tbody>\n",
       "</table>\n",
       "</div>"
      ],
      "text/plain": [
       "       Method  Accuracy  Precision  Training time  Testing time\n",
       "0         DCT  0.893333   0.893333       0.014086      0.000219\n",
       "1       KNN/1  0.988889   0.988889       0.002832      0.042893\n",
       "2       KNN/5  0.993333   0.993333       0.002605      0.047620\n",
       "3      KNN/10  0.993333   0.993333       0.002782      0.049509\n",
       "4  GaussianNB  0.853333   0.853333       0.002835      0.001061\n",
       "5  Perceptron  0.960000   0.960000       0.007564      0.000269"
      ]
     },
     "execution_count": 137,
     "metadata": {},
     "output_type": "execute_result"
    }
   ],
   "source": [
    " digits_results_holdout"
   ]
  },
  {
   "cell_type": "markdown",
   "metadata": {},
   "source": [
    "### Cross-Validation with 5 folds"
   ]
  },
  {
   "cell_type": "code",
   "execution_count": 138,
   "metadata": {},
   "outputs": [
    {
     "data": {
      "text/html": [
       "<div>\n",
       "<style scoped>\n",
       "    .dataframe tbody tr th:only-of-type {\n",
       "        vertical-align: middle;\n",
       "    }\n",
       "\n",
       "    .dataframe tbody tr th {\n",
       "        vertical-align: top;\n",
       "    }\n",
       "\n",
       "    .dataframe thead th {\n",
       "        text-align: right;\n",
       "    }\n",
       "</style>\n",
       "<table border=\"1\" class=\"dataframe\">\n",
       "  <thead>\n",
       "    <tr style=\"text-align: right;\">\n",
       "      <th></th>\n",
       "      <th>Method</th>\n",
       "      <th>Accuracy</th>\n",
       "      <th>Precision</th>\n",
       "      <th>Training time</th>\n",
       "      <th>Testing time</th>\n",
       "    </tr>\n",
       "  </thead>\n",
       "  <tbody>\n",
       "    <tr>\n",
       "      <th>0</th>\n",
       "      <td>DCT</td>\n",
       "      <td>0.953333</td>\n",
       "      <td>0.955017</td>\n",
       "      <td>0.000799</td>\n",
       "      <td>0.000800</td>\n",
       "    </tr>\n",
       "    <tr>\n",
       "      <th>1</th>\n",
       "      <td>KNN/1</td>\n",
       "      <td>0.960000</td>\n",
       "      <td>0.963434</td>\n",
       "      <td>0.000600</td>\n",
       "      <td>0.001600</td>\n",
       "    </tr>\n",
       "    <tr>\n",
       "      <th>2</th>\n",
       "      <td>KNN/5</td>\n",
       "      <td>0.973333</td>\n",
       "      <td>0.976768</td>\n",
       "      <td>0.001000</td>\n",
       "      <td>0.001199</td>\n",
       "    </tr>\n",
       "    <tr>\n",
       "      <th>3</th>\n",
       "      <td>KNN/10</td>\n",
       "      <td>0.980000</td>\n",
       "      <td>0.980606</td>\n",
       "      <td>0.000600</td>\n",
       "      <td>0.001600</td>\n",
       "    </tr>\n",
       "    <tr>\n",
       "      <th>4</th>\n",
       "      <td>GaussianNB</td>\n",
       "      <td>0.953333</td>\n",
       "      <td>0.958384</td>\n",
       "      <td>0.000801</td>\n",
       "      <td>0.000999</td>\n",
       "    </tr>\n",
       "    <tr>\n",
       "      <th>5</th>\n",
       "      <td>Perceptron</td>\n",
       "      <td>0.646667</td>\n",
       "      <td>0.627967</td>\n",
       "      <td>0.001000</td>\n",
       "      <td>0.001001</td>\n",
       "    </tr>\n",
       "  </tbody>\n",
       "</table>\n",
       "</div>"
      ],
      "text/plain": [
       "       Method  Accuracy  Precision  Training time  Testing time\n",
       "0         DCT  0.953333   0.955017       0.000799      0.000800\n",
       "1       KNN/1  0.960000   0.963434       0.000600      0.001600\n",
       "2       KNN/5  0.973333   0.976768       0.001000      0.001199\n",
       "3      KNN/10  0.980000   0.980606       0.000600      0.001600\n",
       "4  GaussianNB  0.953333   0.958384       0.000801      0.000999\n",
       "5  Perceptron  0.646667   0.627967       0.001000      0.001001"
      ]
     },
     "execution_count": 138,
     "metadata": {},
     "output_type": "execute_result"
    }
   ],
   "source": [
    "iris_results_5fold"
   ]
  },
  {
   "cell_type": "code",
   "execution_count": 139,
   "metadata": {},
   "outputs": [
    {
     "data": {
      "text/html": [
       "<div>\n",
       "<style scoped>\n",
       "    .dataframe tbody tr th:only-of-type {\n",
       "        vertical-align: middle;\n",
       "    }\n",
       "\n",
       "    .dataframe tbody tr th {\n",
       "        vertical-align: top;\n",
       "    }\n",
       "\n",
       "    .dataframe thead th {\n",
       "        text-align: right;\n",
       "    }\n",
       "</style>\n",
       "<table border=\"1\" class=\"dataframe\">\n",
       "  <thead>\n",
       "    <tr style=\"text-align: right;\">\n",
       "      <th></th>\n",
       "      <th>Method</th>\n",
       "      <th>Accuracy</th>\n",
       "      <th>Precision</th>\n",
       "      <th>Training time</th>\n",
       "      <th>Testing time</th>\n",
       "    </tr>\n",
       "  </thead>\n",
       "  <tbody>\n",
       "    <tr>\n",
       "      <th>0</th>\n",
       "      <td>DCT</td>\n",
       "      <td>0.803513</td>\n",
       "      <td>0.811965</td>\n",
       "      <td>0.015198</td>\n",
       "      <td>0.001001</td>\n",
       "    </tr>\n",
       "    <tr>\n",
       "      <th>1</th>\n",
       "      <td>KNN/1</td>\n",
       "      <td>0.964975</td>\n",
       "      <td>0.966964</td>\n",
       "      <td>0.002799</td>\n",
       "      <td>0.113000</td>\n",
       "    </tr>\n",
       "    <tr>\n",
       "      <th>2</th>\n",
       "      <td>KNN/5</td>\n",
       "      <td>0.962790</td>\n",
       "      <td>0.964688</td>\n",
       "      <td>0.002599</td>\n",
       "      <td>0.120800</td>\n",
       "    </tr>\n",
       "    <tr>\n",
       "      <th>3</th>\n",
       "      <td>KNN/10</td>\n",
       "      <td>0.955016</td>\n",
       "      <td>0.957191</td>\n",
       "      <td>0.002600</td>\n",
       "      <td>0.122201</td>\n",
       "    </tr>\n",
       "    <tr>\n",
       "      <th>4</th>\n",
       "      <td>GaussianNB</td>\n",
       "      <td>0.806521</td>\n",
       "      <td>0.834412</td>\n",
       "      <td>0.002000</td>\n",
       "      <td>0.003000</td>\n",
       "    </tr>\n",
       "    <tr>\n",
       "      <th>5</th>\n",
       "      <td>Perceptron</td>\n",
       "      <td>0.883028</td>\n",
       "      <td>0.902197</td>\n",
       "      <td>0.007999</td>\n",
       "      <td>0.001200</td>\n",
       "    </tr>\n",
       "  </tbody>\n",
       "</table>\n",
       "</div>"
      ],
      "text/plain": [
       "       Method  Accuracy  Precision  Training time  Testing time\n",
       "0         DCT  0.803513   0.811965       0.015198      0.001001\n",
       "1       KNN/1  0.964975   0.966964       0.002799      0.113000\n",
       "2       KNN/5  0.962790   0.964688       0.002599      0.120800\n",
       "3      KNN/10  0.955016   0.957191       0.002600      0.122201\n",
       "4  GaussianNB  0.806521   0.834412       0.002000      0.003000\n",
       "5  Perceptron  0.883028   0.902197       0.007999      0.001200"
      ]
     },
     "execution_count": 139,
     "metadata": {},
     "output_type": "execute_result"
    }
   ],
   "source": [
    "digits_results_5fold "
   ]
  },
  {
   "cell_type": "code",
   "execution_count": null,
   "metadata": {},
   "outputs": [],
   "source": []
  },
  {
   "cell_type": "code",
   "execution_count": null,
   "metadata": {},
   "outputs": [],
   "source": []
  }
 ],
 "metadata": {
  "kernelspec": {
   "display_name": "Python 3",
   "language": "python",
   "name": "python3"
  },
  "language_info": {
   "codemirror_mode": {
    "name": "ipython",
    "version": 3
   },
   "file_extension": ".py",
   "mimetype": "text/x-python",
   "name": "python",
   "nbconvert_exporter": "python",
   "pygments_lexer": "ipython3",
   "version": "3.7.0"
  }
 },
 "nbformat": 4,
 "nbformat_minor": 2
}
