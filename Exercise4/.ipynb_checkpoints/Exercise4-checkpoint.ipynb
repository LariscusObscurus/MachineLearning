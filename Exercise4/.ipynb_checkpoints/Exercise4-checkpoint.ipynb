{
 "cells": [
  {
   "cell_type": "markdown",
   "metadata": {},
   "source": [
    "# Exercise 4 - comparative experimentation"
   ]
  },
  {
   "cell_type": "markdown",
   "metadata": {},
   "source": [
    "## Setup Image Data"
   ]
  },
  {
   "cell_type": "code",
   "execution_count": 56,
   "metadata": {},
   "outputs": [
    {
     "name": "stdout",
     "output_type": "stream",
     "text": [
      "Found 971 files\n",
      "\n",
      "Found the following classes: ['acerolas', 'apples', 'apricots', 'avocados', 'bananas', 'blackberries', 'blueberries', 'cantaloupes', 'cherries', 'coconuts', 'figs', 'grapefruits', 'grapes', 'guava', 'kiwifruit', 'lemons', 'limes', 'mangos', 'olives', 'oranges', 'passionfruit', 'peaches', 'pears', 'pineapples', 'plums', 'pomegranates', 'raspberries', 'strawberries', 'tomatoes', 'watermelons']\n",
      "Transformed labels (first elements: [0 0 0 0 0 0 0 0 0 0 0 0 0 0 0 0 0 0 0 0 0 0 0 0 1 1 1 1 1 1 1 1 1 1 1 1 1\n",
      " 1 1 1 1 1 1 1 1 1 1 1 1 1 1 1 1 1 1 1 1 1 1 1 1 1 2 2 2 2 2 2 2 2 2 2 2 2\n",
      " 2 2 2 2 2 2 2 2 2 2 2 2 2 2 2 2 2 2 3 3 3 3 3 3 3 3 3 3 3 3 3 3 3 3 3 3 3\n",
      " 3 3 3 3 3 3 3 4 4 4 4 4 4 4 4 4 4 4 4 4 4 4 4 4 4 4 4 4 4 4 4 4 4 4 4 4 4\n",
      " 4 4]\n",
      "... done label encoding\n"
     ]
    }
   ],
   "source": [
    "import glob, os\n",
    "from pathlib import Path\n",
    "\n",
    "imagePath=\".FIDS30/\"\n",
    "fileNames = glob.glob(\"FIDS30/*/*.jpg\")\n",
    "numberOfFiles=len(fileNames)\n",
    "targetLabels=[]\n",
    "\n",
    "print(\"Found \" + str(numberOfFiles) + \" files\\n\")\n",
    "\n",
    "for fileName in fileNames:\n",
    "    parts = Path(fileName).parts\n",
    "    targetLabels.append(parts[-2])\n",
    "\n",
    "\n",
    "from sklearn import preprocessing\n",
    "le = preprocessing.LabelEncoder()\n",
    "le.fit(targetLabels) # this basically finds all unique class names, and assigns them to the numbers\n",
    "print(\"Found the following classes: \" + str(list(le.classes_)))\n",
    "\n",
    "# now we transform our labels to integers\n",
    "target = le.transform(targetLabels); \n",
    "print(\"Transformed labels (first elements: \" + str(target[0:150]))\n",
    "\n",
    "# If we want to find again the label for an integer value, we can do something like this:\n",
    "# print list(le.inverse_transform([0, 18, 1]))\n",
    "\n",
    "print(\"... done label encoding\")\n"
   ]
  },
  {
   "cell_type": "code",
   "execution_count": 66,
   "metadata": {},
   "outputs": [
    {
     "name": "stdout",
     "output_type": "stream",
     "text": [
      "Extracting features using OpenCV (2019-01-20 23:36:12.743282)\n",
      ".... done (2019-01-20 23:37:03.690376)\n"
     ]
    }
   ],
   "source": [
    "from PIL import Image\n",
    "import numpy as np\n",
    "import cv2\n",
    "import datetime\n",
    "\n",
    "data=[]\n",
    "for index, fileName in enumerate(fileNames):\n",
    "    imagePIL = Image.open(fileName)\n",
    "    imagePIL = imagePIL.convert('RGB')     \n",
    "    featureVector=imagePIL.histogram()\n",
    "    \n",
    "    if (len(featureVector) != 768): # just a sanity check; with the transformation to RGB, this should never happen\n",
    "        print(\"Unexpected length of feature vector: \" + str(len(featureVector)) + \" in file: \" + fileName)\n",
    "\n",
    "    data.append((featureVector))\n",
    "\n",
    "    \n",
    "# Next, we extract a few more features using OpenCV\n",
    "\n",
    "print (\"Extracting features using OpenCV\" + \" (\" + str(datetime.datetime.now()) + \")\")\n",
    "dataOpenCV_1D=[]\n",
    "dataOpenCV_2D=[]\n",
    "dataOpenCV_3D=[]\n",
    "\n",
    "# use our own simple function to flatten the 2D arrays\n",
    "flatten = lambda l: [item for sublist in l for item in sublist]\n",
    "\n",
    "for fileName in fileNames:\n",
    "\n",
    "    # the easiest way would to do the following:\n",
    "    # imageOpenCV = cv2.imread(imagePath + fileName)\n",
    "\n",
    "    # However, we have the same issue as before, and it is more difficult in OpenCV to convert to an RGB image\n",
    "    # Thus we do this using PIL, and then convert to OpenCV ....\n",
    "    imagePIL = Image.open(fileName)\n",
    "    imagePIL = imagePIL.convert('RGB')\n",
    "    imageOpenCV = np.array(imagePIL) \n",
    "    # Convert RGB to BGR \n",
    "    imageOpenCV = imageOpenCV[:, :, ::-1].copy() \n",
    "\n",
    "    # Now we split the image in the three channels, B / G / R\n",
    "    chans = cv2.split(imageOpenCV)\n",
    "    colors = (\"b\", \"g\", \"r\")\n",
    "\n",
    "    # First we do also features per channel, but this time, we aggregate them into a smaller number of bins\n",
    "    # I.e. we do not have 256 values per channel, but less\n",
    "    featuresOpenCV_1D = []\n",
    "    bins_1D=64\n",
    "    for (chan, color) in zip(chans, colors): # we compute the histogram over each channel\n",
    "        histOpenCV = cv2.calcHist([chan], [0], None, [bins_1D], [0, 256])\n",
    "        featuresOpenCV_1D.extend(histOpenCV)\n",
    "    featureVectorOpenCV_1D = flatten(featuresOpenCV_1D) # and append this to our feature vector\n",
    "    \n",
    "    dataOpenCV_1D.append(featureVectorOpenCV_1D) # now we append the feature vector to the dataset so far\n",
    "\n",
    "    if (len(featureVectorOpenCV_1D) != bins_1D*3): # sanity check, in case we had a wrong number of channels...\n",
    "        print(\"Unexpected length of feature vector: \" + str(len(featureVectorOpenCV_1D)) + \" in file: \" + fileName)\n",
    "\n",
    "    # Next - features that look at two channels at the same time\n",
    "    # E.g. we look at when green and blue have both \"high values\"\n",
    "    # We reduce the size of bins further, to not have a too long feature vector\n",
    "    featuresOpenCV_2D = []\n",
    "    bins2D=16\n",
    "    # look at all combinations of channels (R & B, R & G, B & G)\n",
    "    featuresOpenCV_2D.extend(cv2.calcHist([chans[1], chans[0]], [0, 1], None, [bins2D, bins2D], [0, 256, 0, 256]))\n",
    "    featuresOpenCV_2D.extend(cv2.calcHist([chans[1], chans[2]], [0, 1], None, [bins2D, bins2D], [0, 256, 0, 256]))\n",
    "    featuresOpenCV_2D.extend(cv2.calcHist([chans[0], chans[2]], [0, 1], None, [bins2D, bins2D], [0, 256, 0, 256]))\n",
    "    # and add that to our dataset\n",
    "    featureVectorOpenCV_2D = flatten(featuresOpenCV_2D)\n",
    "    dataOpenCV_2D.append(featureVectorOpenCV_2D)\n",
    "\n",
    "    # finally, we look at all three channels at the same time.\n",
    "    # We further reduce our bin size, because otherwise, this would become very large...\n",
    "    featuresOpenCV_3D = cv2.calcHist([imageOpenCV], [0, 1, 2], None, [8, 8, 8], [0, 256, 0, 256, 0, 256])\n",
    "    # append to our dataset\n",
    "    featureVectorOpenCV_3D = featuresOpenCV_3D.flatten()\n",
    "    dataOpenCV_3D.append(featureVectorOpenCV_3D)\n",
    "\n",
    "        \n",
    "print( \".... done\" + \" (\" + str(datetime.datetime.now()) + \")\")"
   ]
  },
  {
   "cell_type": "markdown",
   "metadata": {},
   "source": [
    "## Classify"
   ]
  },
  {
   "cell_type": "code",
   "execution_count": 109,
   "metadata": {},
   "outputs": [],
   "source": [
    "from sklearn import metrics\n",
    "from sklearn.model_selection import train_test_split\n",
    "from sklearn.model_selection import cross_val_score\n",
    "from sklearn.model_selection import cross_validate\n",
    "from sklearn.model_selection import KFold\n",
    "\n",
    "from sklearn import neighbors\n",
    "from sklearn import linear_model\n",
    "from sklearn import naive_bayes\n",
    "from sklearn import tree\n",
    "from sklearn import ensemble\n",
    "from sklearn import svm\n",
    "\n",
    "scoring = ['precision_macro', 'recall_macro', 'accuracy']"
   ]
  },
  {
   "cell_type": "code",
   "execution_count": 107,
   "metadata": {},
   "outputs": [],
   "source": [
    "trainingSets = [{'data': data, 'name': 'PIL_Histogram'},\n",
    "                {'data': dataOpenCV_1D, 'name': 'dataOpenCV_1D'},\n",
    "                {'data': dataOpenCV_2D,'name': 'dataOpenCV_2D'},\n",
    "                {'data': dataOpenCV_3D, 'name': 'dataOpenCV_3D'}\n",
    "               ]\n",
    "classifiers = [{'classifier': neighbors.KNeighborsClassifier(n_neighbors=1), 'name': 'KNN/1'},\n",
    "               {'classifier': neighbors.KNeighborsClassifier(n_neighbors=5), 'name': 'KNN/5'},\n",
    "               {'classifier': neighbors.KNeighborsClassifier(n_neighbors=10), 'name': 'KNN/10'},\n",
    "               {'classifier': naive_bayes.GaussianNB(), 'name': 'NaiveBayes'},\n",
    "               {'classifier': tree.DecisionTreeClassifier() , 'name': 'DecisionTreeClassifier'},\n",
    "               {'classifier': ensemble.RandomForestClassifier(n_estimators=10), 'name': 'RandomForest/10'},\n",
    "               {'classifier': ensemble.RandomForestClassifier(n_estimators=20), 'name': 'RandomForest/20'},\n",
    "               {'classifier': svm.SVC(), 'name': 'SVC'},              \n",
    "               {'classifier': svm.LinearSVC(), 'name': 'LinearSVC'}\n",
    "              ]\n",
    "\n",
    "results = []"
   ]
  },
  {
   "cell_type": "code",
   "execution_count": 124,
   "metadata": {},
   "outputs": [],
   "source": [
    "def CrossValidateWith(classifier, trainingSet, target):\n",
    "    global scoring\n",
    "    scores = cross_validate(classifier['classifier'], trainingSet['data'], target, cv=3, scoring=scoring, return_train_score=False)\n",
    "    return {\n",
    "        'Method' : classifier['name'],\n",
    "        'Dataset' : trainingSet['name'],\n",
    "        'Accuracy' : scores['test_accuracy'].mean(),\n",
    "        'Precision' : scores['test_precision_macro'].mean(),\n",
    "        'Training time' : scores['fit_time'].mean() ,\n",
    "        'Testing time' : scores['score_time'].mean()\n",
    "    }"
   ]
  },
  {
   "cell_type": "code",
   "execution_count": 145,
   "metadata": {
    "scrolled": true
   },
   "outputs": [
    {
     "name": "stdout",
     "output_type": "stream",
     "text": [
      "TrainingSet: PIL_Histogram\n",
      "Using: KNN/1\n",
      "{'Accuracy': 0.10065421163353094, 'Method': 'PIL_Histogram with KNN/1', 'Precision': 0.10350412042568906, 'Testing time': 0.32199939092000324, 'Training time': 0.029666821161905926}\n",
      "Using: KNN/5\n"
     ]
    },
    {
     "name": "stderr",
     "output_type": "stream",
     "text": [
      "C:\\Users\\Leonhardt\\AppData\\Local\\conda\\conda\\envs\\env\\lib\\site-packages\\sklearn\\metrics\\classification.py:1143: UndefinedMetricWarning: Precision is ill-defined and being set to 0.0 in labels with no predicted samples.\n",
      "  'precision', 'predicted', average, warn_for)\n",
      "C:\\Users\\Leonhardt\\AppData\\Local\\conda\\conda\\envs\\env\\lib\\site-packages\\sklearn\\metrics\\classification.py:1143: UndefinedMetricWarning: Precision is ill-defined and being set to 0.0 in labels with no predicted samples.\n",
      "  'precision', 'predicted', average, warn_for)\n",
      "C:\\Users\\Leonhardt\\AppData\\Local\\conda\\conda\\envs\\env\\lib\\site-packages\\sklearn\\metrics\\classification.py:1143: UndefinedMetricWarning: Precision is ill-defined and being set to 0.0 in labels with no predicted samples.\n",
      "  'precision', 'predicted', average, warn_for)\n"
     ]
    },
    {
     "name": "stdout",
     "output_type": "stream",
     "text": [
      "{'Accuracy': 0.08321004423527811, 'Method': 'PIL_Histogram with KNN/5', 'Precision': 0.11515352333381089, 'Testing time': 0.35900036493937176, 'Training time': 0.027664979298909504}\n",
      "Using: KNN/10\n",
      "{'Accuracy': 0.08559174397625291, 'Method': 'PIL_Histogram with KNN/10', 'Precision': 0.09818137209876976, 'Testing time': 0.38066673278808594, 'Training time': 0.02733302116394043}\n",
      "Using: NaiveBayes\n"
     ]
    },
    {
     "name": "stderr",
     "output_type": "stream",
     "text": [
      "C:\\Users\\Leonhardt\\AppData\\Local\\conda\\conda\\envs\\env\\lib\\site-packages\\sklearn\\metrics\\classification.py:1143: UndefinedMetricWarning: Precision is ill-defined and being set to 0.0 in labels with no predicted samples.\n",
      "  'precision', 'predicted', average, warn_for)\n",
      "C:\\Users\\Leonhardt\\AppData\\Local\\conda\\conda\\envs\\env\\lib\\site-packages\\sklearn\\metrics\\classification.py:1143: UndefinedMetricWarning: Precision is ill-defined and being set to 0.0 in labels with no predicted samples.\n",
      "  'precision', 'predicted', average, warn_for)\n",
      "C:\\Users\\Leonhardt\\AppData\\Local\\conda\\conda\\envs\\env\\lib\\site-packages\\sklearn\\metrics\\classification.py:1143: UndefinedMetricWarning: Precision is ill-defined and being set to 0.0 in labels with no predicted samples.\n",
      "  'precision', 'predicted', average, warn_for)\n"
     ]
    },
    {
     "name": "stdout",
     "output_type": "stream",
     "text": [
      "{'Accuracy': 0.07414095407969215, 'Method': 'PIL_Histogram with NaiveBayes', 'Precision': 0.10415721022371911, 'Testing time': 0.29433361689249676, 'Training time': 0.03366645177205404}\n",
      "Using: DecisionTreeClassifier\n",
      "{'Accuracy': 0.13719539582138132, 'Method': 'PIL_Histogram with DecisionTreeClassifier', 'Precision': 0.13407207338966884, 'Testing time': 0.05833307902018229, 'Training time': 0.545332113901774}\n",
      "Using: RandomForest/10\n",
      "{'Accuracy': 0.17947818322255815, 'Method': 'PIL_Histogram with RandomForest/10', 'Precision': 0.16430723516249832, 'Testing time': 0.06100193659464518, 'Training time': 0.1569983959197998}\n",
      "Using: RandomForest/20\n"
     ]
    },
    {
     "name": "stderr",
     "output_type": "stream",
     "text": [
      "C:\\Users\\Leonhardt\\AppData\\Local\\conda\\conda\\envs\\env\\lib\\site-packages\\sklearn\\metrics\\classification.py:1143: UndefinedMetricWarning: Precision is ill-defined and being set to 0.0 in labels with no predicted samples.\n",
      "  'precision', 'predicted', average, warn_for)\n"
     ]
    },
    {
     "name": "stdout",
     "output_type": "stream",
     "text": [
      "{'Accuracy': 0.22392976835741996, 'Method': 'PIL_Histogram with RandomForest/20', 'Precision': 0.2148141877984948, 'Testing time': 0.062001307805379234, 'Training time': 0.28833166758219403}\n",
      "Using: SVC\n"
     ]
    },
    {
     "name": "stderr",
     "output_type": "stream",
     "text": [
      "C:\\Users\\Leonhardt\\AppData\\Local\\conda\\conda\\envs\\env\\lib\\site-packages\\sklearn\\svm\\base.py:196: FutureWarning: The default value of gamma will change from 'auto' to 'scale' in version 0.22 to account better for unscaled features. Set gamma explicitly to 'auto' or 'scale' to avoid this warning.\n",
      "  \"avoid this warning.\", FutureWarning)\n",
      "C:\\Users\\Leonhardt\\AppData\\Local\\conda\\conda\\envs\\env\\lib\\site-packages\\sklearn\\metrics\\classification.py:1143: UndefinedMetricWarning: Precision is ill-defined and being set to 0.0 in labels with no predicted samples.\n",
      "  'precision', 'predicted', average, warn_for)\n",
      "C:\\Users\\Leonhardt\\AppData\\Local\\conda\\conda\\envs\\env\\lib\\site-packages\\sklearn\\svm\\base.py:196: FutureWarning: The default value of gamma will change from 'auto' to 'scale' in version 0.22 to account better for unscaled features. Set gamma explicitly to 'auto' or 'scale' to avoid this warning.\n",
      "  \"avoid this warning.\", FutureWarning)\n",
      "C:\\Users\\Leonhardt\\AppData\\Local\\conda\\conda\\envs\\env\\lib\\site-packages\\sklearn\\metrics\\classification.py:1143: UndefinedMetricWarning: Precision is ill-defined and being set to 0.0 in labels with no predicted samples.\n",
      "  'precision', 'predicted', average, warn_for)\n",
      "C:\\Users\\Leonhardt\\AppData\\Local\\conda\\conda\\envs\\env\\lib\\site-packages\\sklearn\\svm\\base.py:196: FutureWarning: The default value of gamma will change from 'auto' to 'scale' in version 0.22 to account better for unscaled features. Set gamma explicitly to 'auto' or 'scale' to avoid this warning.\n",
      "  \"avoid this warning.\", FutureWarning)\n",
      "C:\\Users\\Leonhardt\\AppData\\Local\\conda\\conda\\envs\\env\\lib\\site-packages\\sklearn\\metrics\\classification.py:1143: UndefinedMetricWarning: Precision is ill-defined and being set to 0.0 in labels with no predicted samples.\n",
      "  'precision', 'predicted', average, warn_for)\n"
     ]
    },
    {
     "name": "stdout",
     "output_type": "stream",
     "text": [
      "{'Accuracy': 0.047374603532256275, 'Method': 'PIL_Histogram with SVC', 'Precision': 0.0015791534510752093, 'Testing time': 0.5593323707580566, 'Training time': 0.729333241780599}\n",
      "Using: LinearSVC\n"
     ]
    },
    {
     "name": "stderr",
     "output_type": "stream",
     "text": [
      "C:\\Users\\Leonhardt\\AppData\\Local\\conda\\conda\\envs\\env\\lib\\site-packages\\sklearn\\svm\\base.py:922: ConvergenceWarning: Liblinear failed to converge, increase the number of iterations.\n",
      "  \"the number of iterations.\", ConvergenceWarning)\n",
      "C:\\Users\\Leonhardt\\AppData\\Local\\conda\\conda\\envs\\env\\lib\\site-packages\\sklearn\\svm\\base.py:922: ConvergenceWarning: Liblinear failed to converge, increase the number of iterations.\n",
      "  \"the number of iterations.\", ConvergenceWarning)\n",
      "C:\\Users\\Leonhardt\\AppData\\Local\\conda\\conda\\envs\\env\\lib\\site-packages\\sklearn\\svm\\base.py:922: ConvergenceWarning: Liblinear failed to converge, increase the number of iterations.\n",
      "  \"the number of iterations.\", ConvergenceWarning)\n"
     ]
    },
    {
     "name": "stdout",
     "output_type": "stream",
     "text": [
      "{'Accuracy': 0.1394836643126007, 'Method': 'PIL_Histogram with LinearSVC', 'Precision': 0.17513124584203013, 'Testing time': 0.031332810719807945, 'Training time': 4.939670244852702}\n",
      "TrainingSet: dataOpenCV_1D\n",
      "Using: KNN/1\n",
      "{'Accuracy': 0.11627244465827151, 'Method': 'dataOpenCV_1D with KNN/1', 'Precision': 0.12587763906391358, 'Testing time': 0.08900268872578938, 'Training time': 0.00966485341389974}\n",
      "Using: KNN/5\n"
     ]
    },
    {
     "name": "stderr",
     "output_type": "stream",
     "text": [
      "C:\\Users\\Leonhardt\\AppData\\Local\\conda\\conda\\envs\\env\\lib\\site-packages\\sklearn\\metrics\\classification.py:1143: UndefinedMetricWarning: Precision is ill-defined and being set to 0.0 in labels with no predicted samples.\n",
      "  'precision', 'predicted', average, warn_for)\n",
      "C:\\Users\\Leonhardt\\AppData\\Local\\conda\\conda\\envs\\env\\lib\\site-packages\\sklearn\\metrics\\classification.py:1143: UndefinedMetricWarning: Precision is ill-defined and being set to 0.0 in labels with no predicted samples.\n",
      "  'precision', 'predicted', average, warn_for)\n"
     ]
    },
    {
     "name": "stdout",
     "output_type": "stream",
     "text": [
      "{'Accuracy': 0.094553684411243, 'Method': 'dataOpenCV_1D with KNN/5', 'Precision': 0.10926469674175193, 'Testing time': 0.09366909662882487, 'Training time': 0.007665157318115234}\n",
      "Using: KNN/10\n"
     ]
    },
    {
     "name": "stderr",
     "output_type": "stream",
     "text": [
      "C:\\Users\\Leonhardt\\AppData\\Local\\conda\\conda\\envs\\env\\lib\\site-packages\\sklearn\\metrics\\classification.py:1143: UndefinedMetricWarning: Precision is ill-defined and being set to 0.0 in labels with no predicted samples.\n",
      "  'precision', 'predicted', average, warn_for)\n"
     ]
    },
    {
     "name": "stdout",
     "output_type": "stream",
     "text": [
      "{'Accuracy': 0.09095806729931451, 'Method': 'dataOpenCV_1D with KNN/10', 'Precision': 0.10780343679999309, 'Testing time': 0.10266788800557454, 'Training time': 0.007665475209554036}\n",
      "Using: NaiveBayes\n",
      "{'Accuracy': 0.07310679394573373, 'Method': 'dataOpenCV_1D with NaiveBayes', 'Precision': 0.10523569985724245, 'Testing time': 0.025665124257405598, 'Training time': 0.0073350270589192705}\n",
      "Using: DecisionTreeClassifier\n"
     ]
    },
    {
     "name": "stderr",
     "output_type": "stream",
     "text": [
      "C:\\Users\\Leonhardt\\AppData\\Local\\conda\\conda\\envs\\env\\lib\\site-packages\\sklearn\\metrics\\classification.py:1143: UndefinedMetricWarning: Precision is ill-defined and being set to 0.0 in labels with no predicted samples.\n",
      "  'precision', 'predicted', average, warn_for)\n",
      "C:\\Users\\Leonhardt\\AppData\\Local\\conda\\conda\\envs\\env\\lib\\site-packages\\sklearn\\metrics\\classification.py:1143: UndefinedMetricWarning: Precision is ill-defined and being set to 0.0 in labels with no predicted samples.\n",
      "  'precision', 'predicted', average, warn_for)\n",
      "C:\\Users\\Leonhardt\\AppData\\Local\\conda\\conda\\envs\\env\\lib\\site-packages\\sklearn\\metrics\\classification.py:1143: UndefinedMetricWarning: Precision is ill-defined and being set to 0.0 in labels with no predicted samples.\n",
      "  'precision', 'predicted', average, warn_for)\n"
     ]
    },
    {
     "name": "stdout",
     "output_type": "stream",
     "text": [
      "{'Accuracy': 0.1565123608342814, 'Method': 'dataOpenCV_1D with DecisionTreeClassifier', 'Precision': 0.1576528494945061, 'Testing time': 0.01100007692972819, 'Training time': 0.13533329963684082}\n",
      "Using: RandomForest/10\n"
     ]
    },
    {
     "name": "stderr",
     "output_type": "stream",
     "text": [
      "C:\\Users\\Leonhardt\\AppData\\Local\\conda\\conda\\envs\\env\\lib\\site-packages\\sklearn\\metrics\\classification.py:1143: UndefinedMetricWarning: Precision is ill-defined and being set to 0.0 in labels with no predicted samples.\n",
      "  'precision', 'predicted', average, warn_for)\n"
     ]
    },
    {
     "name": "stdout",
     "output_type": "stream",
     "text": [
      "{'Accuracy': 0.18833033652648948, 'Method': 'dataOpenCV_1D with RandomForest/10', 'Precision': 0.17766593220760196, 'Testing time': 0.012667576471964518, 'Training time': 0.06966574986775716}\n",
      "Using: RandomForest/20\n",
      "{'Accuracy': 0.20702560091035538, 'Method': 'dataOpenCV_1D with RandomForest/20', 'Precision': 0.19178635018805298, 'Testing time': 0.016000668207804363, 'Training time': 0.12799859046936035}\n",
      "Using: SVC\n"
     ]
    },
    {
     "name": "stderr",
     "output_type": "stream",
     "text": [
      "C:\\Users\\Leonhardt\\AppData\\Local\\conda\\conda\\envs\\env\\lib\\site-packages\\sklearn\\svm\\base.py:196: FutureWarning: The default value of gamma will change from 'auto' to 'scale' in version 0.22 to account better for unscaled features. Set gamma explicitly to 'auto' or 'scale' to avoid this warning.\n",
      "  \"avoid this warning.\", FutureWarning)\n",
      "C:\\Users\\Leonhardt\\AppData\\Local\\conda\\conda\\envs\\env\\lib\\site-packages\\sklearn\\metrics\\classification.py:1143: UndefinedMetricWarning: Precision is ill-defined and being set to 0.0 in labels with no predicted samples.\n",
      "  'precision', 'predicted', average, warn_for)\n",
      "C:\\Users\\Leonhardt\\AppData\\Local\\conda\\conda\\envs\\env\\lib\\site-packages\\sklearn\\svm\\base.py:196: FutureWarning: The default value of gamma will change from 'auto' to 'scale' in version 0.22 to account better for unscaled features. Set gamma explicitly to 'auto' or 'scale' to avoid this warning.\n",
      "  \"avoid this warning.\", FutureWarning)\n",
      "C:\\Users\\Leonhardt\\AppData\\Local\\conda\\conda\\envs\\env\\lib\\site-packages\\sklearn\\metrics\\classification.py:1143: UndefinedMetricWarning: Precision is ill-defined and being set to 0.0 in labels with no predicted samples.\n",
      "  'precision', 'predicted', average, warn_for)\n",
      "C:\\Users\\Leonhardt\\AppData\\Local\\conda\\conda\\envs\\env\\lib\\site-packages\\sklearn\\svm\\base.py:196: FutureWarning: The default value of gamma will change from 'auto' to 'scale' in version 0.22 to account better for unscaled features. Set gamma explicitly to 'auto' or 'scale' to avoid this warning.\n",
      "  \"avoid this warning.\", FutureWarning)\n",
      "C:\\Users\\Leonhardt\\AppData\\Local\\conda\\conda\\envs\\env\\lib\\site-packages\\sklearn\\metrics\\classification.py:1143: UndefinedMetricWarning: Precision is ill-defined and being set to 0.0 in labels with no predicted samples.\n",
      "  'precision', 'predicted', average, warn_for)\n"
     ]
    },
    {
     "name": "stdout",
     "output_type": "stream",
     "text": [
      "{'Accuracy': 0.047374603532256275, 'Method': 'dataOpenCV_1D with SVC', 'Precision': 0.0015791534510752093, 'Testing time': 0.16233444213867188, 'Training time': 0.21699881553649902}\n",
      "Using: LinearSVC\n"
     ]
    },
    {
     "name": "stderr",
     "output_type": "stream",
     "text": [
      "C:\\Users\\Leonhardt\\AppData\\Local\\conda\\conda\\envs\\env\\lib\\site-packages\\sklearn\\svm\\base.py:922: ConvergenceWarning: Liblinear failed to converge, increase the number of iterations.\n",
      "  \"the number of iterations.\", ConvergenceWarning)\n",
      "C:\\Users\\Leonhardt\\AppData\\Local\\conda\\conda\\envs\\env\\lib\\site-packages\\sklearn\\svm\\base.py:922: ConvergenceWarning: Liblinear failed to converge, increase the number of iterations.\n",
      "  \"the number of iterations.\", ConvergenceWarning)\n",
      "C:\\Users\\Leonhardt\\AppData\\Local\\conda\\conda\\envs\\env\\lib\\site-packages\\sklearn\\svm\\base.py:922: ConvergenceWarning: Liblinear failed to converge, increase the number of iterations.\n",
      "  \"the number of iterations.\", ConvergenceWarning)\n"
     ]
    },
    {
     "name": "stdout",
     "output_type": "stream",
     "text": [
      "{'Accuracy': 0.13810634558595505, 'Method': 'dataOpenCV_1D with LinearSVC', 'Precision': 0.17849216054808714, 'Testing time': 0.008665164311726889, 'Training time': 1.3250171343485515}\n",
      "TrainingSet: dataOpenCV_2D\n",
      "Using: KNN/1\n",
      "{'Accuracy': 0.15863693273729432, 'Method': 'dataOpenCV_2D with KNN/1', 'Precision': 0.20070779687519494, 'Testing time': 0.3236672878265381, 'Training time': 0.0323332150777181}\n",
      "Using: KNN/5\n"
     ]
    },
    {
     "name": "stderr",
     "output_type": "stream",
     "text": [
      "C:\\Users\\Leonhardt\\AppData\\Local\\conda\\conda\\envs\\env\\lib\\site-packages\\sklearn\\metrics\\classification.py:1143: UndefinedMetricWarning: Precision is ill-defined and being set to 0.0 in labels with no predicted samples.\n",
      "  'precision', 'predicted', average, warn_for)\n",
      "C:\\Users\\Leonhardt\\AppData\\Local\\conda\\conda\\envs\\env\\lib\\site-packages\\sklearn\\metrics\\classification.py:1143: UndefinedMetricWarning: Precision is ill-defined and being set to 0.0 in labels with no predicted samples.\n",
      "  'precision', 'predicted', average, warn_for)\n"
     ]
    },
    {
     "name": "stdout",
     "output_type": "stream",
     "text": [
      "{'Accuracy': 0.12858328623390616, 'Method': 'dataOpenCV_2D with KNN/5', 'Precision': 0.15115918765212918, 'Testing time': 0.38067126274108887, 'Training time': 0.03166659673055013}\n",
      "Using: KNN/10\n",
      "{'Accuracy': 0.13992157286027482, 'Method': 'dataOpenCV_2D with KNN/10', 'Precision': 0.16673210150386217, 'Testing time': 0.3900001049041748, 'Training time': 0.032000462214152016}\n",
      "Using: NaiveBayes\n",
      "{'Accuracy': 0.20666403949093096, 'Method': 'dataOpenCV_2D with NaiveBayes', 'Precision': 0.2774713496162094, 'Testing time': 0.2940022945404053, 'Training time': 0.024331092834472656}\n",
      "Using: DecisionTreeClassifier\n",
      "{'Accuracy': 0.2502434684136244, 'Method': 'dataOpenCV_2D with DecisionTreeClassifier', 'Precision': 0.2466433071476931, 'Testing time': 0.029999574025472004, 'Training time': 0.25300010045369464}\n",
      "Using: RandomForest/10\n",
      "{'Accuracy': 0.3213542543753262, 'Method': 'dataOpenCV_2D with RandomForest/10', 'Precision': 0.31368903408635096, 'Testing time': 0.0346686045328776, 'Training time': 0.08266560236612956}\n",
      "Using: RandomForest/20\n",
      "{'Accuracy': 0.37773502417324467, 'Method': 'dataOpenCV_2D with RandomForest/20', 'Precision': 0.3662742059884689, 'Testing time': 0.03633340199788412, 'Training time': 0.14066608746846518}\n",
      "Using: SVC\n"
     ]
    },
    {
     "name": "stderr",
     "output_type": "stream",
     "text": [
      "C:\\Users\\Leonhardt\\AppData\\Local\\conda\\conda\\envs\\env\\lib\\site-packages\\sklearn\\svm\\base.py:196: FutureWarning: The default value of gamma will change from 'auto' to 'scale' in version 0.22 to account better for unscaled features. Set gamma explicitly to 'auto' or 'scale' to avoid this warning.\n",
      "  \"avoid this warning.\", FutureWarning)\n",
      "C:\\Users\\Leonhardt\\AppData\\Local\\conda\\conda\\envs\\env\\lib\\site-packages\\sklearn\\metrics\\classification.py:1143: UndefinedMetricWarning: Precision is ill-defined and being set to 0.0 in labels with no predicted samples.\n",
      "  'precision', 'predicted', average, warn_for)\n",
      "C:\\Users\\Leonhardt\\AppData\\Local\\conda\\conda\\envs\\env\\lib\\site-packages\\sklearn\\svm\\base.py:196: FutureWarning: The default value of gamma will change from 'auto' to 'scale' in version 0.22 to account better for unscaled features. Set gamma explicitly to 'auto' or 'scale' to avoid this warning.\n",
      "  \"avoid this warning.\", FutureWarning)\n",
      "C:\\Users\\Leonhardt\\AppData\\Local\\conda\\conda\\envs\\env\\lib\\site-packages\\sklearn\\metrics\\classification.py:1143: UndefinedMetricWarning: Precision is ill-defined and being set to 0.0 in labels with no predicted samples.\n",
      "  'precision', 'predicted', average, warn_for)\n",
      "C:\\Users\\Leonhardt\\AppData\\Local\\conda\\conda\\envs\\env\\lib\\site-packages\\sklearn\\svm\\base.py:196: FutureWarning: The default value of gamma will change from 'auto' to 'scale' in version 0.22 to account better for unscaled features. Set gamma explicitly to 'auto' or 'scale' to avoid this warning.\n",
      "  \"avoid this warning.\", FutureWarning)\n",
      "C:\\Users\\Leonhardt\\AppData\\Local\\conda\\conda\\envs\\env\\lib\\site-packages\\sklearn\\metrics\\classification.py:1143: UndefinedMetricWarning: Precision is ill-defined and being set to 0.0 in labels with no predicted samples.\n",
      "  'precision', 'predicted', average, warn_for)\n"
     ]
    },
    {
     "name": "stdout",
     "output_type": "stream",
     "text": [
      "{'Accuracy': 0.047374603532256275, 'Method': 'dataOpenCV_2D with SVC', 'Precision': 0.0015791534510752093, 'Testing time': 0.5473347504933676, 'Training time': 0.7176659901936849}\n",
      "Using: LinearSVC\n"
     ]
    },
    {
     "name": "stderr",
     "output_type": "stream",
     "text": [
      "C:\\Users\\Leonhardt\\AppData\\Local\\conda\\conda\\envs\\env\\lib\\site-packages\\sklearn\\svm\\base.py:922: ConvergenceWarning: Liblinear failed to converge, increase the number of iterations.\n",
      "  \"the number of iterations.\", ConvergenceWarning)\n",
      "C:\\Users\\Leonhardt\\AppData\\Local\\conda\\conda\\envs\\env\\lib\\site-packages\\sklearn\\svm\\base.py:922: ConvergenceWarning: Liblinear failed to converge, increase the number of iterations.\n",
      "  \"the number of iterations.\", ConvergenceWarning)\n",
      "C:\\Users\\Leonhardt\\AppData\\Local\\conda\\conda\\envs\\env\\lib\\site-packages\\sklearn\\svm\\base.py:922: ConvergenceWarning: Liblinear failed to converge, increase the number of iterations.\n",
      "  \"the number of iterations.\", ConvergenceWarning)\n"
     ]
    },
    {
     "name": "stdout",
     "output_type": "stream",
     "text": [
      "{'Accuracy': 0.3405922348495137, 'Method': 'dataOpenCV_2D with LinearSVC', 'Precision': 0.3923032806274284, 'Testing time': 0.035335540771484375, 'Training time': 1.7429980436960857}\n",
      "TrainingSet: dataOpenCV_3D\n",
      "Using: KNN/1\n",
      "{'Accuracy': 0.20370083010722925, 'Method': 'dataOpenCV_3D with KNN/1', 'Precision': 0.23649620086277143, 'Testing time': 0.18999926249186197, 'Training time': 0.009000698725382486}\n",
      "Using: KNN/5\n"
     ]
    },
    {
     "name": "stderr",
     "output_type": "stream",
     "text": [
      "C:\\Users\\Leonhardt\\AppData\\Local\\conda\\conda\\envs\\env\\lib\\site-packages\\sklearn\\metrics\\classification.py:1143: UndefinedMetricWarning: Precision is ill-defined and being set to 0.0 in labels with no predicted samples.\n",
      "  'precision', 'predicted', average, warn_for)\n"
     ]
    },
    {
     "name": "stdout",
     "output_type": "stream",
     "text": [
      "{'Accuracy': 0.16020573927284468, 'Method': 'dataOpenCV_3D with KNN/5', 'Precision': 0.19770286770947473, 'Testing time': 0.2173341910044352, 'Training time': 0.008998632431030273}\n",
      "Using: KNN/10\n"
     ]
    },
    {
     "name": "stderr",
     "output_type": "stream",
     "text": [
      "C:\\Users\\Leonhardt\\AppData\\Local\\conda\\conda\\envs\\env\\lib\\site-packages\\sklearn\\metrics\\classification.py:1143: UndefinedMetricWarning: Precision is ill-defined and being set to 0.0 in labels with no predicted samples.\n",
      "  'precision', 'predicted', average, warn_for)\n"
     ]
    },
    {
     "name": "stdout",
     "output_type": "stream",
     "text": [
      "{'Accuracy': 0.14824039846784562, 'Method': 'dataOpenCV_3D with KNN/10', 'Precision': 0.1935205904395716, 'Testing time': 0.2310007413228353, 'Training time': 0.008998950322469076}\n",
      "Using: NaiveBayes\n",
      "{'Accuracy': 0.263818830213198, 'Method': 'dataOpenCV_3D with NaiveBayes', 'Precision': 0.29263779786519667, 'Testing time': 0.18800091743469238, 'Training time': 0.004332621892293294}\n",
      "Using: DecisionTreeClassifier\n",
      "{'Accuracy': 0.3058739736635277, 'Method': 'dataOpenCV_3D with DecisionTreeClassifier', 'Precision': 0.3116150667771755, 'Testing time': 0.0020018418629964194, 'Training time': 0.07999777793884277}\n",
      "Using: RandomForest/10\n",
      "{'Accuracy': 0.3840430998532261, 'Method': 'dataOpenCV_3D with RandomForest/10', 'Precision': 0.38263891556562174, 'Testing time': 0.006334861119588216, 'Training time': 0.03399991989135742}\n",
      "Using: RandomForest/20\n"
     ]
    },
    {
     "name": "stderr",
     "output_type": "stream",
     "text": [
      "C:\\Users\\Leonhardt\\AppData\\Local\\conda\\conda\\envs\\env\\lib\\site-packages\\sklearn\\metrics\\classification.py:1143: UndefinedMetricWarning: Precision is ill-defined and being set to 0.0 in labels with no predicted samples.\n",
      "  'precision', 'predicted', average, warn_for)\n",
      "C:\\Users\\Leonhardt\\AppData\\Local\\conda\\conda\\envs\\env\\lib\\site-packages\\sklearn\\metrics\\classification.py:1143: UndefinedMetricWarning: Precision is ill-defined and being set to 0.0 in labels with no predicted samples.\n",
      "  'precision', 'predicted', average, warn_for)\n",
      "C:\\Users\\Leonhardt\\AppData\\Local\\conda\\conda\\envs\\env\\lib\\site-packages\\sklearn\\svm\\base.py:196: FutureWarning: The default value of gamma will change from 'auto' to 'scale' in version 0.22 to account better for unscaled features. Set gamma explicitly to 'auto' or 'scale' to avoid this warning.\n",
      "  \"avoid this warning.\", FutureWarning)\n"
     ]
    },
    {
     "name": "stdout",
     "output_type": "stream",
     "text": [
      "{'Accuracy': 0.45198444667876414, 'Method': 'dataOpenCV_3D with RandomForest/20', 'Precision': 0.4480587435361519, 'Testing time': 0.008667071660359701, 'Training time': 0.06266578038533528}\n",
      "Using: SVC\n"
     ]
    },
    {
     "name": "stderr",
     "output_type": "stream",
     "text": [
      "C:\\Users\\Leonhardt\\AppData\\Local\\conda\\conda\\envs\\env\\lib\\site-packages\\sklearn\\metrics\\classification.py:1143: UndefinedMetricWarning: Precision is ill-defined and being set to 0.0 in labels with no predicted samples.\n",
      "  'precision', 'predicted', average, warn_for)\n",
      "C:\\Users\\Leonhardt\\AppData\\Local\\conda\\conda\\envs\\env\\lib\\site-packages\\sklearn\\svm\\base.py:196: FutureWarning: The default value of gamma will change from 'auto' to 'scale' in version 0.22 to account better for unscaled features. Set gamma explicitly to 'auto' or 'scale' to avoid this warning.\n",
      "  \"avoid this warning.\", FutureWarning)\n",
      "C:\\Users\\Leonhardt\\AppData\\Local\\conda\\conda\\envs\\env\\lib\\site-packages\\sklearn\\metrics\\classification.py:1143: UndefinedMetricWarning: Precision is ill-defined and being set to 0.0 in labels with no predicted samples.\n",
      "  'precision', 'predicted', average, warn_for)\n",
      "C:\\Users\\Leonhardt\\AppData\\Local\\conda\\conda\\envs\\env\\lib\\site-packages\\sklearn\\svm\\base.py:196: FutureWarning: The default value of gamma will change from 'auto' to 'scale' in version 0.22 to account better for unscaled features. Set gamma explicitly to 'auto' or 'scale' to avoid this warning.\n",
      "  \"avoid this warning.\", FutureWarning)\n",
      "C:\\Users\\Leonhardt\\AppData\\Local\\conda\\conda\\envs\\env\\lib\\site-packages\\sklearn\\metrics\\classification.py:1143: UndefinedMetricWarning: Precision is ill-defined and being set to 0.0 in labels with no predicted samples.\n",
      "  'precision', 'predicted', average, warn_for)\n"
     ]
    },
    {
     "name": "stdout",
     "output_type": "stream",
     "text": [
      "{'Accuracy': 0.047374603532256275, 'Method': 'dataOpenCV_3D with SVC', 'Precision': 0.0015791534510752093, 'Testing time': 0.34666816393534344, 'Training time': 0.4743309020996094}\n",
      "Using: LinearSVC\n"
     ]
    },
    {
     "name": "stderr",
     "output_type": "stream",
     "text": [
      "C:\\Users\\Leonhardt\\AppData\\Local\\conda\\conda\\envs\\env\\lib\\site-packages\\sklearn\\svm\\base.py:922: ConvergenceWarning: Liblinear failed to converge, increase the number of iterations.\n",
      "  \"the number of iterations.\", ConvergenceWarning)\n",
      "C:\\Users\\Leonhardt\\AppData\\Local\\conda\\conda\\envs\\env\\lib\\site-packages\\sklearn\\svm\\base.py:922: ConvergenceWarning: Liblinear failed to converge, increase the number of iterations.\n",
      "  \"the number of iterations.\", ConvergenceWarning)\n"
     ]
    },
    {
     "name": "stdout",
     "output_type": "stream",
     "text": [
      "{'Accuracy': 0.3530530545425144, 'Method': 'dataOpenCV_3D with LinearSVC', 'Precision': 0.3934420213371396, 'Testing time': 0.004666487375895183, 'Training time': 0.6483332316080729}\n"
     ]
    },
    {
     "name": "stderr",
     "output_type": "stream",
     "text": [
      "C:\\Users\\Leonhardt\\AppData\\Local\\conda\\conda\\envs\\env\\lib\\site-packages\\sklearn\\svm\\base.py:922: ConvergenceWarning: Liblinear failed to converge, increase the number of iterations.\n",
      "  \"the number of iterations.\", ConvergenceWarning)\n"
     ]
    }
   ],
   "source": [
    "for index, trainingSet in enumerate(trainingSets):\n",
    "    print('TrainingSet: ' + trainingSet['name'])\n",
    "    for classifier in classifiers:\n",
    "        print('Using: ' + classifier['name'])\n",
    "        result = CrossValidateWith(classifier, trainingSet, target)\n",
    "        results.append(result)"
   ]
  },
  {
   "cell_type": "code",
   "execution_count": 144,
   "metadata": {},
   "outputs": [],
   "source": [
    "results = []"
   ]
  },
  {
   "cell_type": "code",
   "execution_count": 142,
   "metadata": {},
   "outputs": [],
   "source": [
    "results.append(1)"
   ]
  },
  {
   "cell_type": "code",
   "execution_count": 150,
   "metadata": {},
   "outputs": [
    {
     "data": {
      "text/html": [
       "<div>\n",
       "<style scoped>\n",
       "    .dataframe tbody tr th:only-of-type {\n",
       "        vertical-align: middle;\n",
       "    }\n",
       "\n",
       "    .dataframe tbody tr th {\n",
       "        vertical-align: top;\n",
       "    }\n",
       "\n",
       "    .dataframe thead th {\n",
       "        text-align: right;\n",
       "    }\n",
       "</style>\n",
       "<table border=\"1\" class=\"dataframe\">\n",
       "  <thead>\n",
       "    <tr style=\"text-align: right;\">\n",
       "      <th></th>\n",
       "      <th>Accuracy</th>\n",
       "      <th>Method</th>\n",
       "      <th>Precision</th>\n",
       "      <th>Testing time</th>\n",
       "      <th>Training time</th>\n",
       "    </tr>\n",
       "  </thead>\n",
       "  <tbody>\n",
       "    <tr>\n",
       "      <th>0</th>\n",
       "      <td>0.100654</td>\n",
       "      <td>PIL_Histogram with KNN/1</td>\n",
       "      <td>0.103504</td>\n",
       "      <td>0.321999</td>\n",
       "      <td>0.029667</td>\n",
       "    </tr>\n",
       "    <tr>\n",
       "      <th>1</th>\n",
       "      <td>0.083210</td>\n",
       "      <td>PIL_Histogram with KNN/5</td>\n",
       "      <td>0.115154</td>\n",
       "      <td>0.359000</td>\n",
       "      <td>0.027665</td>\n",
       "    </tr>\n",
       "    <tr>\n",
       "      <th>2</th>\n",
       "      <td>0.085592</td>\n",
       "      <td>PIL_Histogram with KNN/10</td>\n",
       "      <td>0.098181</td>\n",
       "      <td>0.380667</td>\n",
       "      <td>0.027333</td>\n",
       "    </tr>\n",
       "    <tr>\n",
       "      <th>3</th>\n",
       "      <td>0.074141</td>\n",
       "      <td>PIL_Histogram with NaiveBayes</td>\n",
       "      <td>0.104157</td>\n",
       "      <td>0.294334</td>\n",
       "      <td>0.033666</td>\n",
       "    </tr>\n",
       "    <tr>\n",
       "      <th>4</th>\n",
       "      <td>0.137195</td>\n",
       "      <td>PIL_Histogram with DecisionTreeClassifier</td>\n",
       "      <td>0.134072</td>\n",
       "      <td>0.058333</td>\n",
       "      <td>0.545332</td>\n",
       "    </tr>\n",
       "    <tr>\n",
       "      <th>5</th>\n",
       "      <td>0.179478</td>\n",
       "      <td>PIL_Histogram with RandomForest/10</td>\n",
       "      <td>0.164307</td>\n",
       "      <td>0.061002</td>\n",
       "      <td>0.156998</td>\n",
       "    </tr>\n",
       "    <tr>\n",
       "      <th>6</th>\n",
       "      <td>0.223930</td>\n",
       "      <td>PIL_Histogram with RandomForest/20</td>\n",
       "      <td>0.214814</td>\n",
       "      <td>0.062001</td>\n",
       "      <td>0.288332</td>\n",
       "    </tr>\n",
       "    <tr>\n",
       "      <th>7</th>\n",
       "      <td>0.047375</td>\n",
       "      <td>PIL_Histogram with SVC</td>\n",
       "      <td>0.001579</td>\n",
       "      <td>0.559332</td>\n",
       "      <td>0.729333</td>\n",
       "    </tr>\n",
       "    <tr>\n",
       "      <th>8</th>\n",
       "      <td>0.139484</td>\n",
       "      <td>PIL_Histogram with LinearSVC</td>\n",
       "      <td>0.175131</td>\n",
       "      <td>0.031333</td>\n",
       "      <td>4.939670</td>\n",
       "    </tr>\n",
       "    <tr>\n",
       "      <th>9</th>\n",
       "      <td>0.116272</td>\n",
       "      <td>dataOpenCV_1D with KNN/1</td>\n",
       "      <td>0.125878</td>\n",
       "      <td>0.089003</td>\n",
       "      <td>0.009665</td>\n",
       "    </tr>\n",
       "    <tr>\n",
       "      <th>10</th>\n",
       "      <td>0.094554</td>\n",
       "      <td>dataOpenCV_1D with KNN/5</td>\n",
       "      <td>0.109265</td>\n",
       "      <td>0.093669</td>\n",
       "      <td>0.007665</td>\n",
       "    </tr>\n",
       "    <tr>\n",
       "      <th>11</th>\n",
       "      <td>0.090958</td>\n",
       "      <td>dataOpenCV_1D with KNN/10</td>\n",
       "      <td>0.107803</td>\n",
       "      <td>0.102668</td>\n",
       "      <td>0.007665</td>\n",
       "    </tr>\n",
       "    <tr>\n",
       "      <th>12</th>\n",
       "      <td>0.073107</td>\n",
       "      <td>dataOpenCV_1D with NaiveBayes</td>\n",
       "      <td>0.105236</td>\n",
       "      <td>0.025665</td>\n",
       "      <td>0.007335</td>\n",
       "    </tr>\n",
       "    <tr>\n",
       "      <th>13</th>\n",
       "      <td>0.156512</td>\n",
       "      <td>dataOpenCV_1D with DecisionTreeClassifier</td>\n",
       "      <td>0.157653</td>\n",
       "      <td>0.011000</td>\n",
       "      <td>0.135333</td>\n",
       "    </tr>\n",
       "    <tr>\n",
       "      <th>14</th>\n",
       "      <td>0.188330</td>\n",
       "      <td>dataOpenCV_1D with RandomForest/10</td>\n",
       "      <td>0.177666</td>\n",
       "      <td>0.012668</td>\n",
       "      <td>0.069666</td>\n",
       "    </tr>\n",
       "    <tr>\n",
       "      <th>15</th>\n",
       "      <td>0.207026</td>\n",
       "      <td>dataOpenCV_1D with RandomForest/20</td>\n",
       "      <td>0.191786</td>\n",
       "      <td>0.016001</td>\n",
       "      <td>0.127999</td>\n",
       "    </tr>\n",
       "    <tr>\n",
       "      <th>16</th>\n",
       "      <td>0.047375</td>\n",
       "      <td>dataOpenCV_1D with SVC</td>\n",
       "      <td>0.001579</td>\n",
       "      <td>0.162334</td>\n",
       "      <td>0.216999</td>\n",
       "    </tr>\n",
       "    <tr>\n",
       "      <th>17</th>\n",
       "      <td>0.138106</td>\n",
       "      <td>dataOpenCV_1D with LinearSVC</td>\n",
       "      <td>0.178492</td>\n",
       "      <td>0.008665</td>\n",
       "      <td>1.325017</td>\n",
       "    </tr>\n",
       "    <tr>\n",
       "      <th>18</th>\n",
       "      <td>0.158637</td>\n",
       "      <td>dataOpenCV_2D with KNN/1</td>\n",
       "      <td>0.200708</td>\n",
       "      <td>0.323667</td>\n",
       "      <td>0.032333</td>\n",
       "    </tr>\n",
       "    <tr>\n",
       "      <th>19</th>\n",
       "      <td>0.128583</td>\n",
       "      <td>dataOpenCV_2D with KNN/5</td>\n",
       "      <td>0.151159</td>\n",
       "      <td>0.380671</td>\n",
       "      <td>0.031667</td>\n",
       "    </tr>\n",
       "    <tr>\n",
       "      <th>20</th>\n",
       "      <td>0.139922</td>\n",
       "      <td>dataOpenCV_2D with KNN/10</td>\n",
       "      <td>0.166732</td>\n",
       "      <td>0.390000</td>\n",
       "      <td>0.032000</td>\n",
       "    </tr>\n",
       "    <tr>\n",
       "      <th>21</th>\n",
       "      <td>0.206664</td>\n",
       "      <td>dataOpenCV_2D with NaiveBayes</td>\n",
       "      <td>0.277471</td>\n",
       "      <td>0.294002</td>\n",
       "      <td>0.024331</td>\n",
       "    </tr>\n",
       "    <tr>\n",
       "      <th>22</th>\n",
       "      <td>0.250243</td>\n",
       "      <td>dataOpenCV_2D with DecisionTreeClassifier</td>\n",
       "      <td>0.246643</td>\n",
       "      <td>0.030000</td>\n",
       "      <td>0.253000</td>\n",
       "    </tr>\n",
       "    <tr>\n",
       "      <th>23</th>\n",
       "      <td>0.321354</td>\n",
       "      <td>dataOpenCV_2D with RandomForest/10</td>\n",
       "      <td>0.313689</td>\n",
       "      <td>0.034669</td>\n",
       "      <td>0.082666</td>\n",
       "    </tr>\n",
       "    <tr>\n",
       "      <th>24</th>\n",
       "      <td>0.377735</td>\n",
       "      <td>dataOpenCV_2D with RandomForest/20</td>\n",
       "      <td>0.366274</td>\n",
       "      <td>0.036333</td>\n",
       "      <td>0.140666</td>\n",
       "    </tr>\n",
       "    <tr>\n",
       "      <th>25</th>\n",
       "      <td>0.047375</td>\n",
       "      <td>dataOpenCV_2D with SVC</td>\n",
       "      <td>0.001579</td>\n",
       "      <td>0.547335</td>\n",
       "      <td>0.717666</td>\n",
       "    </tr>\n",
       "    <tr>\n",
       "      <th>26</th>\n",
       "      <td>0.340592</td>\n",
       "      <td>dataOpenCV_2D with LinearSVC</td>\n",
       "      <td>0.392303</td>\n",
       "      <td>0.035336</td>\n",
       "      <td>1.742998</td>\n",
       "    </tr>\n",
       "    <tr>\n",
       "      <th>27</th>\n",
       "      <td>0.203701</td>\n",
       "      <td>dataOpenCV_3D with KNN/1</td>\n",
       "      <td>0.236496</td>\n",
       "      <td>0.189999</td>\n",
       "      <td>0.009001</td>\n",
       "    </tr>\n",
       "    <tr>\n",
       "      <th>28</th>\n",
       "      <td>0.160206</td>\n",
       "      <td>dataOpenCV_3D with KNN/5</td>\n",
       "      <td>0.197703</td>\n",
       "      <td>0.217334</td>\n",
       "      <td>0.008999</td>\n",
       "    </tr>\n",
       "    <tr>\n",
       "      <th>29</th>\n",
       "      <td>0.148240</td>\n",
       "      <td>dataOpenCV_3D with KNN/10</td>\n",
       "      <td>0.193521</td>\n",
       "      <td>0.231001</td>\n",
       "      <td>0.008999</td>\n",
       "    </tr>\n",
       "    <tr>\n",
       "      <th>30</th>\n",
       "      <td>0.263819</td>\n",
       "      <td>dataOpenCV_3D with NaiveBayes</td>\n",
       "      <td>0.292638</td>\n",
       "      <td>0.188001</td>\n",
       "      <td>0.004333</td>\n",
       "    </tr>\n",
       "    <tr>\n",
       "      <th>31</th>\n",
       "      <td>0.305874</td>\n",
       "      <td>dataOpenCV_3D with DecisionTreeClassifier</td>\n",
       "      <td>0.311615</td>\n",
       "      <td>0.002002</td>\n",
       "      <td>0.079998</td>\n",
       "    </tr>\n",
       "    <tr>\n",
       "      <th>32</th>\n",
       "      <td>0.384043</td>\n",
       "      <td>dataOpenCV_3D with RandomForest/10</td>\n",
       "      <td>0.382639</td>\n",
       "      <td>0.006335</td>\n",
       "      <td>0.034000</td>\n",
       "    </tr>\n",
       "    <tr>\n",
       "      <th>33</th>\n",
       "      <td>0.451984</td>\n",
       "      <td>dataOpenCV_3D with RandomForest/20</td>\n",
       "      <td>0.448059</td>\n",
       "      <td>0.008667</td>\n",
       "      <td>0.062666</td>\n",
       "    </tr>\n",
       "    <tr>\n",
       "      <th>34</th>\n",
       "      <td>0.047375</td>\n",
       "      <td>dataOpenCV_3D with SVC</td>\n",
       "      <td>0.001579</td>\n",
       "      <td>0.346668</td>\n",
       "      <td>0.474331</td>\n",
       "    </tr>\n",
       "    <tr>\n",
       "      <th>35</th>\n",
       "      <td>0.353053</td>\n",
       "      <td>dataOpenCV_3D with LinearSVC</td>\n",
       "      <td>0.393442</td>\n",
       "      <td>0.004666</td>\n",
       "      <td>0.648333</td>\n",
       "    </tr>\n",
       "  </tbody>\n",
       "</table>\n",
       "</div>"
      ],
      "text/plain": [
       "    Accuracy                                     Method  Precision  \\\n",
       "0   0.100654                   PIL_Histogram with KNN/1   0.103504   \n",
       "1   0.083210                   PIL_Histogram with KNN/5   0.115154   \n",
       "2   0.085592                  PIL_Histogram with KNN/10   0.098181   \n",
       "3   0.074141              PIL_Histogram with NaiveBayes   0.104157   \n",
       "4   0.137195  PIL_Histogram with DecisionTreeClassifier   0.134072   \n",
       "5   0.179478         PIL_Histogram with RandomForest/10   0.164307   \n",
       "6   0.223930         PIL_Histogram with RandomForest/20   0.214814   \n",
       "7   0.047375                     PIL_Histogram with SVC   0.001579   \n",
       "8   0.139484               PIL_Histogram with LinearSVC   0.175131   \n",
       "9   0.116272                   dataOpenCV_1D with KNN/1   0.125878   \n",
       "10  0.094554                   dataOpenCV_1D with KNN/5   0.109265   \n",
       "11  0.090958                  dataOpenCV_1D with KNN/10   0.107803   \n",
       "12  0.073107              dataOpenCV_1D with NaiveBayes   0.105236   \n",
       "13  0.156512  dataOpenCV_1D with DecisionTreeClassifier   0.157653   \n",
       "14  0.188330         dataOpenCV_1D with RandomForest/10   0.177666   \n",
       "15  0.207026         dataOpenCV_1D with RandomForest/20   0.191786   \n",
       "16  0.047375                     dataOpenCV_1D with SVC   0.001579   \n",
       "17  0.138106               dataOpenCV_1D with LinearSVC   0.178492   \n",
       "18  0.158637                   dataOpenCV_2D with KNN/1   0.200708   \n",
       "19  0.128583                   dataOpenCV_2D with KNN/5   0.151159   \n",
       "20  0.139922                  dataOpenCV_2D with KNN/10   0.166732   \n",
       "21  0.206664              dataOpenCV_2D with NaiveBayes   0.277471   \n",
       "22  0.250243  dataOpenCV_2D with DecisionTreeClassifier   0.246643   \n",
       "23  0.321354         dataOpenCV_2D with RandomForest/10   0.313689   \n",
       "24  0.377735         dataOpenCV_2D with RandomForest/20   0.366274   \n",
       "25  0.047375                     dataOpenCV_2D with SVC   0.001579   \n",
       "26  0.340592               dataOpenCV_2D with LinearSVC   0.392303   \n",
       "27  0.203701                   dataOpenCV_3D with KNN/1   0.236496   \n",
       "28  0.160206                   dataOpenCV_3D with KNN/5   0.197703   \n",
       "29  0.148240                  dataOpenCV_3D with KNN/10   0.193521   \n",
       "30  0.263819              dataOpenCV_3D with NaiveBayes   0.292638   \n",
       "31  0.305874  dataOpenCV_3D with DecisionTreeClassifier   0.311615   \n",
       "32  0.384043         dataOpenCV_3D with RandomForest/10   0.382639   \n",
       "33  0.451984         dataOpenCV_3D with RandomForest/20   0.448059   \n",
       "34  0.047375                     dataOpenCV_3D with SVC   0.001579   \n",
       "35  0.353053               dataOpenCV_3D with LinearSVC   0.393442   \n",
       "\n",
       "    Testing time  Training time  \n",
       "0       0.321999       0.029667  \n",
       "1       0.359000       0.027665  \n",
       "2       0.380667       0.027333  \n",
       "3       0.294334       0.033666  \n",
       "4       0.058333       0.545332  \n",
       "5       0.061002       0.156998  \n",
       "6       0.062001       0.288332  \n",
       "7       0.559332       0.729333  \n",
       "8       0.031333       4.939670  \n",
       "9       0.089003       0.009665  \n",
       "10      0.093669       0.007665  \n",
       "11      0.102668       0.007665  \n",
       "12      0.025665       0.007335  \n",
       "13      0.011000       0.135333  \n",
       "14      0.012668       0.069666  \n",
       "15      0.016001       0.127999  \n",
       "16      0.162334       0.216999  \n",
       "17      0.008665       1.325017  \n",
       "18      0.323667       0.032333  \n",
       "19      0.380671       0.031667  \n",
       "20      0.390000       0.032000  \n",
       "21      0.294002       0.024331  \n",
       "22      0.030000       0.253000  \n",
       "23      0.034669       0.082666  \n",
       "24      0.036333       0.140666  \n",
       "25      0.547335       0.717666  \n",
       "26      0.035336       1.742998  \n",
       "27      0.189999       0.009001  \n",
       "28      0.217334       0.008999  \n",
       "29      0.231001       0.008999  \n",
       "30      0.188001       0.004333  \n",
       "31      0.002002       0.079998  \n",
       "32      0.006335       0.034000  \n",
       "33      0.008667       0.062666  \n",
       "34      0.346668       0.474331  \n",
       "35      0.004666       0.648333  "
      ]
     },
     "execution_count": 150,
     "metadata": {},
     "output_type": "execute_result"
    }
   ],
   "source": [
    "import pandas as pd\n",
    "pd.DataFrame(results)"
   ]
  },
  {
   "cell_type": "code",
   "execution_count": null,
   "metadata": {},
   "outputs": [],
   "source": []
  }
 ],
 "metadata": {
  "kernelspec": {
   "display_name": "Python 3",
   "language": "python",
   "name": "python3"
  },
  "language_info": {
   "codemirror_mode": {
    "name": "ipython",
    "version": 3
   },
   "file_extension": ".py",
   "mimetype": "text/x-python",
   "name": "python",
   "nbconvert_exporter": "python",
   "pygments_lexer": "ipython3",
   "version": "3.5.6"
  }
 },
 "nbformat": 4,
 "nbformat_minor": 2
}
